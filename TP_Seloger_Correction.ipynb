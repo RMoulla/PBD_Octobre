{
  "cells": [
    {
      "cell_type": "markdown",
      "metadata": {
        "id": "view-in-github",
        "colab_type": "text"
      },
      "source": [
        "<a href=\"https://colab.research.google.com/github/RMoulla/PBD_Octobre/blob/main/TP_Seloger_Correction.ipynb\" target=\"_parent\"><img src=\"https://colab.research.google.com/assets/colab-badge.svg\" alt=\"Open In Colab\"/></a>"
      ]
    },
    {
      "cell_type": "markdown",
      "metadata": {
        "id": "rRnYnXA-md-R"
      },
      "source": [
        "# Travaux pratiques : analyse des prix des biens immobiliers.\n",
        "\n",
        "Étude d'un jeu de données comportant des informations immobilières provenant du site seloger.com.\n",
        "\n",
        "Dans un premier temps, nous nous proposons de faire une étude exploratoire pour se familiariser avec la donnée et comprendre comment les variables se comportent. Cette étape permettra egalement de débusquer d'eventuelles anomalies et de nettoyer la donnée si nécessaire.\n",
        "\n",
        "Dans un second temps, nous nous attacherons à l'explicabilité des données, c'est à dire répondre à la question \"Quelles sont les variables les plus importantes pour expliquer le prix d'un bien ?\"\n",
        "\n",
        "Finalement, nous entrainerons des modèles de Machine Learning sur des données d'entrainement et nous prédirons sur des données de test afin d'évaluer les performances du modèles."
      ]
    },
    {
      "cell_type": "code",
      "execution_count": null,
      "metadata": {
        "id": "Y22z9Mswmd-S"
      },
      "outputs": [],
      "source": [
        "# Librairie pour lire des fichiers de données tabulaires\n",
        "import pandas as pd"
      ]
    },
    {
      "cell_type": "code",
      "execution_count": null,
      "metadata": {
        "id": "BXTUj-tKmd-T"
      },
      "outputs": [],
      "source": [
        "file_path = 'selogerdata.csv'\n",
        "dataset = pd.read_csv(file_path)"
      ]
    },
    {
      "cell_type": "code",
      "execution_count": null,
      "metadata": {
        "id": "nXBkUsSWmd-U",
        "outputId": "6af8c387-ed44-4f45-fbdb-eddb37b640c8",
        "colab": {
          "base_uri": "https://localhost:8080/"
        }
      },
      "outputs": [
        {
          "output_type": "execute_result",
          "data": {
            "text/plain": [
              "(8899, 24)"
            ]
          },
          "metadata": {},
          "execution_count": 3
        }
      ],
      "source": [
        "dataset.shape"
      ]
    },
    {
      "cell_type": "markdown",
      "metadata": {
        "id": "kvdpDJxGmd-U"
      },
      "source": [
        "Le jeu de données contient 8899 lignes et 24 colonnes."
      ]
    },
    {
      "cell_type": "code",
      "execution_count": null,
      "metadata": {
        "id": "6igooBlxmd-V",
        "outputId": "22f73bfa-67f7-4a1f-dc85-95f882e00398",
        "colab": {
          "base_uri": "https://localhost:8080/",
          "height": 338
        }
      },
      "outputs": [
        {
          "output_type": "execute_result",
          "data": {
            "text/plain": [
              "   number  codeinsee  codepostal     cp  etage  idagence  idannonce  idtiers  \\\n",
              "0      11     750116       75016  75016      0    178817  144013899   227883   \n",
              "1       8     750110       75010  75010      0     12089  149750677     3765   \n",
              "2       6     750118       75018  75018      0    115811  138648733   108873   \n",
              "3      16     750110       75010  75010      0     12089  149750679     3765   \n",
              "4       4     750116       75016  75016      0     97567  147153067   145098   \n",
              "\n",
              "   idtypechauffage  idtypecommerce  ... nb_photos nb_pieces  position    prix  \\\n",
              "0                0               0  ...        13         3        11   59000   \n",
              "1                0               0  ...         7         1         8   77500   \n",
              "2                0               0  ...         8         2         6   94000   \n",
              "3                0               0  ...         4         1        16   96000   \n",
              "4                0               0  ...         5         2         4  100000   \n",
              "\n",
              "   si_balcon  si_sdEau  si_sdbain  surface   typedebien         ville  \n",
              "0          1         0          0    69.00  Appartement  Paris 16√®me  \n",
              "1          0         0          0     8.49  Appartement  Paris 10√®me  \n",
              "2          0         0          0    37.00  Appartement  Paris 18√®me  \n",
              "3          0         0          0    10.26  Appartement  Paris 10√®me  \n",
              "4          0         0          0    14.93  Appartement  Paris 16√®me  \n",
              "\n",
              "[5 rows x 24 columns]"
            ],
            "text/html": [
              "\n",
              "  <div id=\"df-2b36567e-f892-49d6-b580-8ac76d810344\" class=\"colab-df-container\">\n",
              "    <div>\n",
              "<style scoped>\n",
              "    .dataframe tbody tr th:only-of-type {\n",
              "        vertical-align: middle;\n",
              "    }\n",
              "\n",
              "    .dataframe tbody tr th {\n",
              "        vertical-align: top;\n",
              "    }\n",
              "\n",
              "    .dataframe thead th {\n",
              "        text-align: right;\n",
              "    }\n",
              "</style>\n",
              "<table border=\"1\" class=\"dataframe\">\n",
              "  <thead>\n",
              "    <tr style=\"text-align: right;\">\n",
              "      <th></th>\n",
              "      <th>number</th>\n",
              "      <th>codeinsee</th>\n",
              "      <th>codepostal</th>\n",
              "      <th>cp</th>\n",
              "      <th>etage</th>\n",
              "      <th>idagence</th>\n",
              "      <th>idannonce</th>\n",
              "      <th>idtiers</th>\n",
              "      <th>idtypechauffage</th>\n",
              "      <th>idtypecommerce</th>\n",
              "      <th>...</th>\n",
              "      <th>nb_photos</th>\n",
              "      <th>nb_pieces</th>\n",
              "      <th>position</th>\n",
              "      <th>prix</th>\n",
              "      <th>si_balcon</th>\n",
              "      <th>si_sdEau</th>\n",
              "      <th>si_sdbain</th>\n",
              "      <th>surface</th>\n",
              "      <th>typedebien</th>\n",
              "      <th>ville</th>\n",
              "    </tr>\n",
              "  </thead>\n",
              "  <tbody>\n",
              "    <tr>\n",
              "      <th>0</th>\n",
              "      <td>11</td>\n",
              "      <td>750116</td>\n",
              "      <td>75016</td>\n",
              "      <td>75016</td>\n",
              "      <td>0</td>\n",
              "      <td>178817</td>\n",
              "      <td>144013899</td>\n",
              "      <td>227883</td>\n",
              "      <td>0</td>\n",
              "      <td>0</td>\n",
              "      <td>...</td>\n",
              "      <td>13</td>\n",
              "      <td>3</td>\n",
              "      <td>11</td>\n",
              "      <td>59000</td>\n",
              "      <td>1</td>\n",
              "      <td>0</td>\n",
              "      <td>0</td>\n",
              "      <td>69.00</td>\n",
              "      <td>Appartement</td>\n",
              "      <td>Paris 16√®me</td>\n",
              "    </tr>\n",
              "    <tr>\n",
              "      <th>1</th>\n",
              "      <td>8</td>\n",
              "      <td>750110</td>\n",
              "      <td>75010</td>\n",
              "      <td>75010</td>\n",
              "      <td>0</td>\n",
              "      <td>12089</td>\n",
              "      <td>149750677</td>\n",
              "      <td>3765</td>\n",
              "      <td>0</td>\n",
              "      <td>0</td>\n",
              "      <td>...</td>\n",
              "      <td>7</td>\n",
              "      <td>1</td>\n",
              "      <td>8</td>\n",
              "      <td>77500</td>\n",
              "      <td>0</td>\n",
              "      <td>0</td>\n",
              "      <td>0</td>\n",
              "      <td>8.49</td>\n",
              "      <td>Appartement</td>\n",
              "      <td>Paris 10√®me</td>\n",
              "    </tr>\n",
              "    <tr>\n",
              "      <th>2</th>\n",
              "      <td>6</td>\n",
              "      <td>750118</td>\n",
              "      <td>75018</td>\n",
              "      <td>75018</td>\n",
              "      <td>0</td>\n",
              "      <td>115811</td>\n",
              "      <td>138648733</td>\n",
              "      <td>108873</td>\n",
              "      <td>0</td>\n",
              "      <td>0</td>\n",
              "      <td>...</td>\n",
              "      <td>8</td>\n",
              "      <td>2</td>\n",
              "      <td>6</td>\n",
              "      <td>94000</td>\n",
              "      <td>0</td>\n",
              "      <td>0</td>\n",
              "      <td>0</td>\n",
              "      <td>37.00</td>\n",
              "      <td>Appartement</td>\n",
              "      <td>Paris 18√®me</td>\n",
              "    </tr>\n",
              "    <tr>\n",
              "      <th>3</th>\n",
              "      <td>16</td>\n",
              "      <td>750110</td>\n",
              "      <td>75010</td>\n",
              "      <td>75010</td>\n",
              "      <td>0</td>\n",
              "      <td>12089</td>\n",
              "      <td>149750679</td>\n",
              "      <td>3765</td>\n",
              "      <td>0</td>\n",
              "      <td>0</td>\n",
              "      <td>...</td>\n",
              "      <td>4</td>\n",
              "      <td>1</td>\n",
              "      <td>16</td>\n",
              "      <td>96000</td>\n",
              "      <td>0</td>\n",
              "      <td>0</td>\n",
              "      <td>0</td>\n",
              "      <td>10.26</td>\n",
              "      <td>Appartement</td>\n",
              "      <td>Paris 10√®me</td>\n",
              "    </tr>\n",
              "    <tr>\n",
              "      <th>4</th>\n",
              "      <td>4</td>\n",
              "      <td>750116</td>\n",
              "      <td>75016</td>\n",
              "      <td>75016</td>\n",
              "      <td>0</td>\n",
              "      <td>97567</td>\n",
              "      <td>147153067</td>\n",
              "      <td>145098</td>\n",
              "      <td>0</td>\n",
              "      <td>0</td>\n",
              "      <td>...</td>\n",
              "      <td>5</td>\n",
              "      <td>2</td>\n",
              "      <td>4</td>\n",
              "      <td>100000</td>\n",
              "      <td>0</td>\n",
              "      <td>0</td>\n",
              "      <td>0</td>\n",
              "      <td>14.93</td>\n",
              "      <td>Appartement</td>\n",
              "      <td>Paris 16√®me</td>\n",
              "    </tr>\n",
              "  </tbody>\n",
              "</table>\n",
              "<p>5 rows × 24 columns</p>\n",
              "</div>\n",
              "    <div class=\"colab-df-buttons\">\n",
              "\n",
              "  <div class=\"colab-df-container\">\n",
              "    <button class=\"colab-df-convert\" onclick=\"convertToInteractive('df-2b36567e-f892-49d6-b580-8ac76d810344')\"\n",
              "            title=\"Convert this dataframe to an interactive table.\"\n",
              "            style=\"display:none;\">\n",
              "\n",
              "  <svg xmlns=\"http://www.w3.org/2000/svg\" height=\"24px\" viewBox=\"0 -960 960 960\">\n",
              "    <path d=\"M120-120v-720h720v720H120Zm60-500h600v-160H180v160Zm220 220h160v-160H400v160Zm0 220h160v-160H400v160ZM180-400h160v-160H180v160Zm440 0h160v-160H620v160ZM180-180h160v-160H180v160Zm440 0h160v-160H620v160Z\"/>\n",
              "  </svg>\n",
              "    </button>\n",
              "\n",
              "  <style>\n",
              "    .colab-df-container {\n",
              "      display:flex;\n",
              "      gap: 12px;\n",
              "    }\n",
              "\n",
              "    .colab-df-convert {\n",
              "      background-color: #E8F0FE;\n",
              "      border: none;\n",
              "      border-radius: 50%;\n",
              "      cursor: pointer;\n",
              "      display: none;\n",
              "      fill: #1967D2;\n",
              "      height: 32px;\n",
              "      padding: 0 0 0 0;\n",
              "      width: 32px;\n",
              "    }\n",
              "\n",
              "    .colab-df-convert:hover {\n",
              "      background-color: #E2EBFA;\n",
              "      box-shadow: 0px 1px 2px rgba(60, 64, 67, 0.3), 0px 1px 3px 1px rgba(60, 64, 67, 0.15);\n",
              "      fill: #174EA6;\n",
              "    }\n",
              "\n",
              "    .colab-df-buttons div {\n",
              "      margin-bottom: 4px;\n",
              "    }\n",
              "\n",
              "    [theme=dark] .colab-df-convert {\n",
              "      background-color: #3B4455;\n",
              "      fill: #D2E3FC;\n",
              "    }\n",
              "\n",
              "    [theme=dark] .colab-df-convert:hover {\n",
              "      background-color: #434B5C;\n",
              "      box-shadow: 0px 1px 3px 1px rgba(0, 0, 0, 0.15);\n",
              "      filter: drop-shadow(0px 1px 2px rgba(0, 0, 0, 0.3));\n",
              "      fill: #FFFFFF;\n",
              "    }\n",
              "  </style>\n",
              "\n",
              "    <script>\n",
              "      const buttonEl =\n",
              "        document.querySelector('#df-2b36567e-f892-49d6-b580-8ac76d810344 button.colab-df-convert');\n",
              "      buttonEl.style.display =\n",
              "        google.colab.kernel.accessAllowed ? 'block' : 'none';\n",
              "\n",
              "      async function convertToInteractive(key) {\n",
              "        const element = document.querySelector('#df-2b36567e-f892-49d6-b580-8ac76d810344');\n",
              "        const dataTable =\n",
              "          await google.colab.kernel.invokeFunction('convertToInteractive',\n",
              "                                                    [key], {});\n",
              "        if (!dataTable) return;\n",
              "\n",
              "        const docLinkHtml = 'Like what you see? Visit the ' +\n",
              "          '<a target=\"_blank\" href=https://colab.research.google.com/notebooks/data_table.ipynb>data table notebook</a>'\n",
              "          + ' to learn more about interactive tables.';\n",
              "        element.innerHTML = '';\n",
              "        dataTable['output_type'] = 'display_data';\n",
              "        await google.colab.output.renderOutput(dataTable, element);\n",
              "        const docLink = document.createElement('div');\n",
              "        docLink.innerHTML = docLinkHtml;\n",
              "        element.appendChild(docLink);\n",
              "      }\n",
              "    </script>\n",
              "  </div>\n",
              "\n",
              "\n",
              "<div id=\"df-9f2d6da1-5738-40e2-b9f7-254c8e5c7885\">\n",
              "  <button class=\"colab-df-quickchart\" onclick=\"quickchart('df-9f2d6da1-5738-40e2-b9f7-254c8e5c7885')\"\n",
              "            title=\"Suggest charts\"\n",
              "            style=\"display:none;\">\n",
              "\n",
              "<svg xmlns=\"http://www.w3.org/2000/svg\" height=\"24px\"viewBox=\"0 0 24 24\"\n",
              "     width=\"24px\">\n",
              "    <g>\n",
              "        <path d=\"M19 3H5c-1.1 0-2 .9-2 2v14c0 1.1.9 2 2 2h14c1.1 0 2-.9 2-2V5c0-1.1-.9-2-2-2zM9 17H7v-7h2v7zm4 0h-2V7h2v10zm4 0h-2v-4h2v4z\"/>\n",
              "    </g>\n",
              "</svg>\n",
              "  </button>\n",
              "\n",
              "<style>\n",
              "  .colab-df-quickchart {\n",
              "      --bg-color: #E8F0FE;\n",
              "      --fill-color: #1967D2;\n",
              "      --hover-bg-color: #E2EBFA;\n",
              "      --hover-fill-color: #174EA6;\n",
              "      --disabled-fill-color: #AAA;\n",
              "      --disabled-bg-color: #DDD;\n",
              "  }\n",
              "\n",
              "  [theme=dark] .colab-df-quickchart {\n",
              "      --bg-color: #3B4455;\n",
              "      --fill-color: #D2E3FC;\n",
              "      --hover-bg-color: #434B5C;\n",
              "      --hover-fill-color: #FFFFFF;\n",
              "      --disabled-bg-color: #3B4455;\n",
              "      --disabled-fill-color: #666;\n",
              "  }\n",
              "\n",
              "  .colab-df-quickchart {\n",
              "    background-color: var(--bg-color);\n",
              "    border: none;\n",
              "    border-radius: 50%;\n",
              "    cursor: pointer;\n",
              "    display: none;\n",
              "    fill: var(--fill-color);\n",
              "    height: 32px;\n",
              "    padding: 0;\n",
              "    width: 32px;\n",
              "  }\n",
              "\n",
              "  .colab-df-quickchart:hover {\n",
              "    background-color: var(--hover-bg-color);\n",
              "    box-shadow: 0 1px 2px rgba(60, 64, 67, 0.3), 0 1px 3px 1px rgba(60, 64, 67, 0.15);\n",
              "    fill: var(--button-hover-fill-color);\n",
              "  }\n",
              "\n",
              "  .colab-df-quickchart-complete:disabled,\n",
              "  .colab-df-quickchart-complete:disabled:hover {\n",
              "    background-color: var(--disabled-bg-color);\n",
              "    fill: var(--disabled-fill-color);\n",
              "    box-shadow: none;\n",
              "  }\n",
              "\n",
              "  .colab-df-spinner {\n",
              "    border: 2px solid var(--fill-color);\n",
              "    border-color: transparent;\n",
              "    border-bottom-color: var(--fill-color);\n",
              "    animation:\n",
              "      spin 1s steps(1) infinite;\n",
              "  }\n",
              "\n",
              "  @keyframes spin {\n",
              "    0% {\n",
              "      border-color: transparent;\n",
              "      border-bottom-color: var(--fill-color);\n",
              "      border-left-color: var(--fill-color);\n",
              "    }\n",
              "    20% {\n",
              "      border-color: transparent;\n",
              "      border-left-color: var(--fill-color);\n",
              "      border-top-color: var(--fill-color);\n",
              "    }\n",
              "    30% {\n",
              "      border-color: transparent;\n",
              "      border-left-color: var(--fill-color);\n",
              "      border-top-color: var(--fill-color);\n",
              "      border-right-color: var(--fill-color);\n",
              "    }\n",
              "    40% {\n",
              "      border-color: transparent;\n",
              "      border-right-color: var(--fill-color);\n",
              "      border-top-color: var(--fill-color);\n",
              "    }\n",
              "    60% {\n",
              "      border-color: transparent;\n",
              "      border-right-color: var(--fill-color);\n",
              "    }\n",
              "    80% {\n",
              "      border-color: transparent;\n",
              "      border-right-color: var(--fill-color);\n",
              "      border-bottom-color: var(--fill-color);\n",
              "    }\n",
              "    90% {\n",
              "      border-color: transparent;\n",
              "      border-bottom-color: var(--fill-color);\n",
              "    }\n",
              "  }\n",
              "</style>\n",
              "\n",
              "  <script>\n",
              "    async function quickchart(key) {\n",
              "      const quickchartButtonEl =\n",
              "        document.querySelector('#' + key + ' button');\n",
              "      quickchartButtonEl.disabled = true;  // To prevent multiple clicks.\n",
              "      quickchartButtonEl.classList.add('colab-df-spinner');\n",
              "      try {\n",
              "        const charts = await google.colab.kernel.invokeFunction(\n",
              "            'suggestCharts', [key], {});\n",
              "      } catch (error) {\n",
              "        console.error('Error during call to suggestCharts:', error);\n",
              "      }\n",
              "      quickchartButtonEl.classList.remove('colab-df-spinner');\n",
              "      quickchartButtonEl.classList.add('colab-df-quickchart-complete');\n",
              "    }\n",
              "    (() => {\n",
              "      let quickchartButtonEl =\n",
              "        document.querySelector('#df-9f2d6da1-5738-40e2-b9f7-254c8e5c7885 button');\n",
              "      quickchartButtonEl.style.display =\n",
              "        google.colab.kernel.accessAllowed ? 'block' : 'none';\n",
              "    })();\n",
              "  </script>\n",
              "</div>\n",
              "\n",
              "    </div>\n",
              "  </div>\n"
            ],
            "application/vnd.google.colaboratory.intrinsic+json": {
              "type": "dataframe",
              "variable_name": "dataset"
            }
          },
          "metadata": {},
          "execution_count": 4
        }
      ],
      "source": [
        "# Visualiser les 5 premières lignes du dataset\n",
        "dataset.head()"
      ]
    },
    {
      "cell_type": "markdown",
      "source": [
        "## Nettoyage des données"
      ],
      "metadata": {
        "id": "u4Iped-m3okJ"
      }
    },
    {
      "cell_type": "markdown",
      "metadata": {
        "id": "ZnJFbeYwmd-V"
      },
      "source": [
        "On peut d'ores et déjà remarquer que les colonnes `idtypecyuisine` et `ville` doivent etre nettoyées"
      ]
    },
    {
      "cell_type": "code",
      "execution_count": null,
      "metadata": {
        "id": "xDfOPqaSmd-V",
        "outputId": "f6534459-ffae-4b9b-95f3-98210989ed31",
        "colab": {
          "base_uri": "https://localhost:8080/"
        }
      },
      "outputs": [
        {
          "output_type": "execute_result",
          "data": {
            "text/plain": [
              "Index(['number', 'codeinsee', 'codepostal', 'cp', 'etage', 'idagence',\n",
              "       'idannonce', 'idtiers', 'idtypechauffage', 'idtypecommerce',\n",
              "       'idtypecuisine', 'idtypepublicationsourcecouplage', 'naturebien',\n",
              "       'nb_chambres', 'nb_photos', 'nb_pieces', 'position', 'prix',\n",
              "       'si_balcon', 'si_sdEau', 'si_sdbain', 'surface', 'typedebien', 'ville'],\n",
              "      dtype='object')"
            ]
          },
          "metadata": {},
          "execution_count": 5
        }
      ],
      "source": [
        "# Afficher le nom des colonnes du dataset\n",
        "dataset.columns"
      ]
    },
    {
      "cell_type": "code",
      "execution_count": null,
      "metadata": {
        "id": "N0d0WNpbmd-W",
        "outputId": "efca70d2-9dc0-4380-eeab-3523a2e85f04",
        "colab": {
          "base_uri": "https://localhost:8080/"
        }
      },
      "outputs": [
        {
          "output_type": "execute_result",
          "data": {
            "text/plain": [
              "array(['√©quip√©e', 'aucune', '0', 'coin cuisine √©quip√©',\n",
              "       'coin cuisine', 's√©par√©e', 's√©par√©e √©quip√©e', 'am√©ricaine',\n",
              "       'am√©ricaine √©quip√©e', '-1'], dtype=object)"
            ]
          },
          "metadata": {},
          "execution_count": 6
        }
      ],
      "source": [
        "# Afficher la fréquence des types de cuisine.\n",
        "dataset['idtypecuisine'].unique()"
      ]
    },
    {
      "cell_type": "markdown",
      "metadata": {
        "id": "NC1fkK7Tmd-X"
      },
      "source": [
        "Que veulent dire les valeurs 0 et -1 ?\n",
        "On pourrait penser que 0 corresond à la situation ou il n'y a pas de cuisine mais ce n'est pas le cas en regardant les données. Nous allons créer des groupes à part pour ces catégories\n"
      ]
    },
    {
      "cell_type": "code",
      "execution_count": null,
      "metadata": {
        "id": "aOHzw0g6md-X"
      },
      "outputs": [],
      "source": [
        "# Correction des données\n",
        "mapper = {\n",
        "    's√©par√©e': 'séparée',\n",
        "    '0': 'categorie_0',\n",
        "    's√©par√©e √©quip√©e': 'séparée équipée',\n",
        "    'aucune': 'aucune',\n",
        "    'am√©ricaine √©quip√©e': 'américaine équipée',\n",
        "    '√©quip√©e': 'équipée',\n",
        "    'am√©ricaine': 'américaine',\n",
        "    'coin cuisine': 'coin cuisine',\n",
        "    'coin cuisine √©quip√©': 'coin cuisine équipé',\n",
        "    '-1': 'catégorie_1'\n",
        "}"
      ]
    },
    {
      "cell_type": "code",
      "execution_count": null,
      "metadata": {
        "id": "ciE9V-75md-X"
      },
      "outputs": [],
      "source": [
        "# Appliquer les corrections\n",
        "dataset['idtypecuisine'] = dataset['idtypecuisine'].map(mapper)"
      ]
    },
    {
      "cell_type": "markdown",
      "source": [
        "Nous allons également corriger les caractères accentués pour la variable ville."
      ],
      "metadata": {
        "id": "o-Q7rvs34fgo"
      }
    },
    {
      "cell_type": "code",
      "execution_count": null,
      "metadata": {
        "id": "lZeCfAe9md-X",
        "outputId": "bf5b511b-f221-4e2d-dbdf-3324243a74c6",
        "colab": {
          "base_uri": "https://localhost:8080/"
        }
      },
      "outputs": [
        {
          "output_type": "execute_result",
          "data": {
            "text/plain": [
              "array(['Paris 16√®me', 'Paris 10√®me', 'Paris 18√®me', 'Melun',\n",
              "       'Corbeil Essonnes', '√âtampes', 'Issou', 'Limay', '√âvry', 'Avon',\n",
              "       'Evry', 'Saint-Denis', 'Trappes', 'Ris Orangis', 'Paris 19√®me',\n",
              "       'Paris 14√®me', '√âpinay-sous-S√©nart', 'Eragny sur Oise',\n",
              "       'Argenteuil', 'Bessancourt', 'Etampes', 'Montlhery', 'Gagny',\n",
              "       'Fleury Merogis', 'Villeparisis', 'Fosses', 'Vaujours', 'Les Ulis',\n",
              "       'Meaux', 'Pontoise', 'Cergy', 'Verneuil sur Seine',\n",
              "       'Brie Comte Robert', 'Carrieres sous Poissy', 'H√©ricy', 'Igny',\n",
              "       'Paris 20√®me', 'Les Pavillons-sous-Bois', 'Mennecy',\n",
              "       'Vert le Petit', 'Morsang-sur-Orge', 'Linas', 'Mandres les Roses',\n",
              "       'Paris 17√®me', 'Villepinte', 'Paris 2√®me', 'Paris 15√®me',\n",
              "       'Paris 6√®me', 'Paris 3√®me', 'Paris 8√®me', 'Paris 5√®me',\n",
              "       'Paris 11√®me', 'Paris 9√®me', 'Paris 13√®me', 'Paris 12√®me',\n",
              "       'Garches', 'Chatou', 'Sucy en Brie', 'Louveciennes', 'Le Pecq',\n",
              "       'Enghien les Bains', 'Saint Germain en Laye', 'Paris 4√®me',\n",
              "       'Lognes', 'Villejuif', 'Clamart', 'Montesson', 'Viry Chatillon',\n",
              "       'Sartrouville', 'Livry-Gargan', 'La Celle Saint Cloud',\n",
              "       'Carri√®res sous Poissy', 'Paris 1er', 'Paris 7√®me',\n",
              "       'Saint Maurice', 'Chennevieres sur Marne', 'Bagnolet', 'Les Lilas',\n",
              "       'Pomponne', 'Noisy le Roi', 'L Isle Adam', 'Montmorency',\n",
              "       'Les Clayes sous Bois', 'Le Kremlin Bicetre', 'Courbevoie',\n",
              "       'St Remy les Chevreuse', 'Verrieres le Buisson', 'Montrouge',\n",
              "       'Maisons-Laffitte', 'La Garenne-Colombes', 'Bailly', 'Saint-Ouen',\n",
              "       'Serris', 'Chessy', 'Gentilly', 'Versailles', 'Asnieres sur Seine',\n",
              "       'Chatillon', 'Suresnes', 'Le Port Marly', 'Gif-sur-Yvette',\n",
              "       'Asni√®res-sur-Seine', 'Maisons Alfort', 'Buc', 'Le Mesnil le Roi',\n",
              "       'Boulogne', 'Issy-les-Moulineaux', 'St Germain en Laye', 'Meudon',\n",
              "       'Neuilly-sur-Seine', 'Saint-Mand√©', 'Clichy'], dtype=object)"
            ]
          },
          "metadata": {},
          "execution_count": 9
        }
      ],
      "source": [
        "# Afficher les 10 premières villes\n",
        "dataset['ville'].unique()"
      ]
    },
    {
      "cell_type": "code",
      "execution_count": null,
      "metadata": {
        "id": "hFSOCCNDmd-Y"
      },
      "outputs": [],
      "source": [
        "# Corriger les accents\n",
        "dataset['ville'] =  (\n",
        "    dataset['ville']\n",
        "    .str.replace('√®', 'è')\n",
        "    .str.replace('√â', 'É')\n",
        "    .str.replace('√©', 'é')\n",
        "    .str.replace('√¨', 'ê')\n",
        ")"
      ]
    },
    {
      "cell_type": "code",
      "execution_count": null,
      "metadata": {
        "id": "ac9N-_rvmd-Y",
        "outputId": "19f20681-3087-4f0e-a51e-f05adb9f81ef",
        "colab": {
          "base_uri": "https://localhost:8080/"
        }
      },
      "outputs": [
        {
          "output_type": "execute_result",
          "data": {
            "text/plain": [
              "array(['Paris 16ème', 'Paris 10ème', 'Paris 18ème', 'Melun',\n",
              "       'Corbeil Essonnes', 'Étampes', 'Issou', 'Limay', 'Évry', 'Avon',\n",
              "       'Evry', 'Saint-Denis', 'Trappes', 'Ris Orangis', 'Paris 19ème',\n",
              "       'Paris 14ème', 'Épinay-sous-Sénart', 'Eragny sur Oise',\n",
              "       'Argenteuil', 'Bessancourt', 'Etampes', 'Montlhery', 'Gagny',\n",
              "       'Fleury Merogis', 'Villeparisis', 'Fosses', 'Vaujours', 'Les Ulis',\n",
              "       'Meaux', 'Pontoise', 'Cergy', 'Verneuil sur Seine',\n",
              "       'Brie Comte Robert', 'Carrieres sous Poissy', 'Héricy', 'Igny',\n",
              "       'Paris 20ème', 'Les Pavillons-sous-Bois', 'Mennecy',\n",
              "       'Vert le Petit', 'Morsang-sur-Orge', 'Linas', 'Mandres les Roses',\n",
              "       'Paris 17ème', 'Villepinte', 'Paris 2ème', 'Paris 15ème',\n",
              "       'Paris 6ème', 'Paris 3ème', 'Paris 8ème', 'Paris 5ème',\n",
              "       'Paris 11ème', 'Paris 9ème', 'Paris 13ème', 'Paris 12ème',\n",
              "       'Garches', 'Chatou', 'Sucy en Brie', 'Louveciennes', 'Le Pecq',\n",
              "       'Enghien les Bains', 'Saint Germain en Laye', 'Paris 4ème',\n",
              "       'Lognes', 'Villejuif', 'Clamart', 'Montesson', 'Viry Chatillon',\n",
              "       'Sartrouville', 'Livry-Gargan', 'La Celle Saint Cloud',\n",
              "       'Carrières sous Poissy', 'Paris 1er', 'Paris 7ème',\n",
              "       'Saint Maurice', 'Chennevieres sur Marne', 'Bagnolet', 'Les Lilas',\n",
              "       'Pomponne', 'Noisy le Roi', 'L Isle Adam', 'Montmorency',\n",
              "       'Les Clayes sous Bois', 'Le Kremlin Bicetre', 'Courbevoie',\n",
              "       'St Remy les Chevreuse', 'Verrieres le Buisson', 'Montrouge',\n",
              "       'Maisons-Laffitte', 'La Garenne-Colombes', 'Bailly', 'Saint-Ouen',\n",
              "       'Serris', 'Chessy', 'Gentilly', 'Versailles', 'Asnieres sur Seine',\n",
              "       'Chatillon', 'Suresnes', 'Le Port Marly', 'Gif-sur-Yvette',\n",
              "       'Asnières-sur-Seine', 'Maisons Alfort', 'Buc', 'Le Mesnil le Roi',\n",
              "       'Boulogne', 'Issy-les-Moulineaux', 'St Germain en Laye', 'Meudon',\n",
              "       'Neuilly-sur-Seine', 'Saint-Mandé', 'Clichy'], dtype=object)"
            ]
          },
          "metadata": {},
          "execution_count": 11
        }
      ],
      "source": [
        "dataset['ville'].unique()"
      ]
    },
    {
      "cell_type": "markdown",
      "metadata": {
        "id": "A6N3VNAKmd-Y"
      },
      "source": [
        "## Analyse exploratoire des données\n",
        "Nous allons commencer par un aperçu sur les données sous forme de résumé statitiques des différentes variables numériques."
      ]
    },
    {
      "cell_type": "code",
      "source": [
        "dataset.describe()"
      ],
      "metadata": {
        "colab": {
          "base_uri": "https://localhost:8080/",
          "height": 317
        },
        "id": "QHLjDAm35AwR",
        "outputId": "3d14801f-b5ca-4889-dd44-373cedce382a"
      },
      "execution_count": null,
      "outputs": [
        {
          "output_type": "execute_result",
          "data": {
            "text/plain": [
              "            number      codeinsee    codepostal            cp   etage  \\\n",
              "count  8899.000000    8899.000000   8899.000000   8899.000000  8899.0   \n",
              "mean      9.531296  751745.680189  75186.144735  75186.144735     0.0   \n",
              "std       5.765614   16287.896954   1660.091189   1660.091189     0.0   \n",
              "min       0.000000  750101.000000  75001.000000  75001.000000     0.0   \n",
              "25%       5.000000  750108.000000  75008.000000  75008.000000     0.0   \n",
              "50%      10.000000  750114.000000  75014.000000  75014.000000     0.0   \n",
              "75%      15.000000  750116.000000  75017.000000  75017.000000     0.0   \n",
              "max      19.000000  950500.000000  95880.000000  95880.000000     0.0   \n",
              "\n",
              "            idagence     idannonce        idtiers  idtypechauffage  \\\n",
              "count    8899.000000  8.899000e+03    8899.000000           8899.0   \n",
              "mean   124110.094280  1.473531e+08  136989.252500              0.0   \n",
              "std    104338.907661  3.661055e+06  109732.960794              0.0   \n",
              "min        33.000000  7.437284e+07      98.000000              0.0   \n",
              "25%     39738.000000  1.463174e+08   26516.000000              0.0   \n",
              "50%     93920.000000  1.486361e+08  123925.000000              0.0   \n",
              "75%    203657.000000  1.495161e+08  213489.000000              0.0   \n",
              "max    362103.000000  1.502498e+08  425123.000000              0.0   \n",
              "\n",
              "       idtypecommerce   naturebien  nb_chambres    nb_photos    nb_pieces  \\\n",
              "count          8899.0  8899.000000  8899.000000  8899.000000  8899.000000   \n",
              "mean              0.0     1.638723     2.319474     9.697269     3.838746   \n",
              "std               0.0     0.931184     1.170877     4.511174     1.483164   \n",
              "min               0.0     1.000000     1.000000     0.000000     1.000000   \n",
              "25%               0.0     1.000000     1.000000     6.000000     3.000000   \n",
              "50%               0.0     1.000000     2.000000     9.000000     4.000000   \n",
              "75%               0.0     3.000000     3.000000    12.000000     5.000000   \n",
              "max               0.0     3.000000    22.000000    27.000000    53.000000   \n",
              "\n",
              "          position          prix    si_balcon  si_sdEau  si_sdbain  \\\n",
              "count  8899.000000  8.899000e+03  8899.000000    8899.0     8899.0   \n",
              "mean      9.531296  1.210579e+06     0.271716       0.0        0.0   \n",
              "std       5.765614  4.462923e+05     0.444869       0.0        0.0   \n",
              "min       0.000000  5.900000e+04     0.000000       0.0        0.0   \n",
              "25%       5.000000  7.950000e+05     0.000000       0.0        0.0   \n",
              "50%      10.000000  1.475000e+06     0.000000       0.0        0.0   \n",
              "75%      15.000000  1.490000e+06     1.000000       0.0        0.0   \n",
              "max      19.000000  2.000000e+06     1.000000       0.0        0.0   \n",
              "\n",
              "           surface  \n",
              "count  8899.000000  \n",
              "mean     96.070707  \n",
              "std      38.127731  \n",
              "min       0.000000  \n",
              "25%      66.400000  \n",
              "50%      93.000000  \n",
              "75%     129.000000  \n",
              "max     250.000000  "
            ],
            "text/html": [
              "\n",
              "  <div id=\"df-53d349f9-4546-4a92-8dae-4dfc54ea6c2f\" class=\"colab-df-container\">\n",
              "    <div>\n",
              "<style scoped>\n",
              "    .dataframe tbody tr th:only-of-type {\n",
              "        vertical-align: middle;\n",
              "    }\n",
              "\n",
              "    .dataframe tbody tr th {\n",
              "        vertical-align: top;\n",
              "    }\n",
              "\n",
              "    .dataframe thead th {\n",
              "        text-align: right;\n",
              "    }\n",
              "</style>\n",
              "<table border=\"1\" class=\"dataframe\">\n",
              "  <thead>\n",
              "    <tr style=\"text-align: right;\">\n",
              "      <th></th>\n",
              "      <th>number</th>\n",
              "      <th>codeinsee</th>\n",
              "      <th>codepostal</th>\n",
              "      <th>cp</th>\n",
              "      <th>etage</th>\n",
              "      <th>idagence</th>\n",
              "      <th>idannonce</th>\n",
              "      <th>idtiers</th>\n",
              "      <th>idtypechauffage</th>\n",
              "      <th>idtypecommerce</th>\n",
              "      <th>naturebien</th>\n",
              "      <th>nb_chambres</th>\n",
              "      <th>nb_photos</th>\n",
              "      <th>nb_pieces</th>\n",
              "      <th>position</th>\n",
              "      <th>prix</th>\n",
              "      <th>si_balcon</th>\n",
              "      <th>si_sdEau</th>\n",
              "      <th>si_sdbain</th>\n",
              "      <th>surface</th>\n",
              "    </tr>\n",
              "  </thead>\n",
              "  <tbody>\n",
              "    <tr>\n",
              "      <th>count</th>\n",
              "      <td>8899.000000</td>\n",
              "      <td>8899.000000</td>\n",
              "      <td>8899.000000</td>\n",
              "      <td>8899.000000</td>\n",
              "      <td>8899.0</td>\n",
              "      <td>8899.000000</td>\n",
              "      <td>8.899000e+03</td>\n",
              "      <td>8899.000000</td>\n",
              "      <td>8899.0</td>\n",
              "      <td>8899.0</td>\n",
              "      <td>8899.000000</td>\n",
              "      <td>8899.000000</td>\n",
              "      <td>8899.000000</td>\n",
              "      <td>8899.000000</td>\n",
              "      <td>8899.000000</td>\n",
              "      <td>8.899000e+03</td>\n",
              "      <td>8899.000000</td>\n",
              "      <td>8899.0</td>\n",
              "      <td>8899.0</td>\n",
              "      <td>8899.000000</td>\n",
              "    </tr>\n",
              "    <tr>\n",
              "      <th>mean</th>\n",
              "      <td>9.531296</td>\n",
              "      <td>751745.680189</td>\n",
              "      <td>75186.144735</td>\n",
              "      <td>75186.144735</td>\n",
              "      <td>0.0</td>\n",
              "      <td>124110.094280</td>\n",
              "      <td>1.473531e+08</td>\n",
              "      <td>136989.252500</td>\n",
              "      <td>0.0</td>\n",
              "      <td>0.0</td>\n",
              "      <td>1.638723</td>\n",
              "      <td>2.319474</td>\n",
              "      <td>9.697269</td>\n",
              "      <td>3.838746</td>\n",
              "      <td>9.531296</td>\n",
              "      <td>1.210579e+06</td>\n",
              "      <td>0.271716</td>\n",
              "      <td>0.0</td>\n",
              "      <td>0.0</td>\n",
              "      <td>96.070707</td>\n",
              "    </tr>\n",
              "    <tr>\n",
              "      <th>std</th>\n",
              "      <td>5.765614</td>\n",
              "      <td>16287.896954</td>\n",
              "      <td>1660.091189</td>\n",
              "      <td>1660.091189</td>\n",
              "      <td>0.0</td>\n",
              "      <td>104338.907661</td>\n",
              "      <td>3.661055e+06</td>\n",
              "      <td>109732.960794</td>\n",
              "      <td>0.0</td>\n",
              "      <td>0.0</td>\n",
              "      <td>0.931184</td>\n",
              "      <td>1.170877</td>\n",
              "      <td>4.511174</td>\n",
              "      <td>1.483164</td>\n",
              "      <td>5.765614</td>\n",
              "      <td>4.462923e+05</td>\n",
              "      <td>0.444869</td>\n",
              "      <td>0.0</td>\n",
              "      <td>0.0</td>\n",
              "      <td>38.127731</td>\n",
              "    </tr>\n",
              "    <tr>\n",
              "      <th>min</th>\n",
              "      <td>0.000000</td>\n",
              "      <td>750101.000000</td>\n",
              "      <td>75001.000000</td>\n",
              "      <td>75001.000000</td>\n",
              "      <td>0.0</td>\n",
              "      <td>33.000000</td>\n",
              "      <td>7.437284e+07</td>\n",
              "      <td>98.000000</td>\n",
              "      <td>0.0</td>\n",
              "      <td>0.0</td>\n",
              "      <td>1.000000</td>\n",
              "      <td>1.000000</td>\n",
              "      <td>0.000000</td>\n",
              "      <td>1.000000</td>\n",
              "      <td>0.000000</td>\n",
              "      <td>5.900000e+04</td>\n",
              "      <td>0.000000</td>\n",
              "      <td>0.0</td>\n",
              "      <td>0.0</td>\n",
              "      <td>0.000000</td>\n",
              "    </tr>\n",
              "    <tr>\n",
              "      <th>25%</th>\n",
              "      <td>5.000000</td>\n",
              "      <td>750108.000000</td>\n",
              "      <td>75008.000000</td>\n",
              "      <td>75008.000000</td>\n",
              "      <td>0.0</td>\n",
              "      <td>39738.000000</td>\n",
              "      <td>1.463174e+08</td>\n",
              "      <td>26516.000000</td>\n",
              "      <td>0.0</td>\n",
              "      <td>0.0</td>\n",
              "      <td>1.000000</td>\n",
              "      <td>1.000000</td>\n",
              "      <td>6.000000</td>\n",
              "      <td>3.000000</td>\n",
              "      <td>5.000000</td>\n",
              "      <td>7.950000e+05</td>\n",
              "      <td>0.000000</td>\n",
              "      <td>0.0</td>\n",
              "      <td>0.0</td>\n",
              "      <td>66.400000</td>\n",
              "    </tr>\n",
              "    <tr>\n",
              "      <th>50%</th>\n",
              "      <td>10.000000</td>\n",
              "      <td>750114.000000</td>\n",
              "      <td>75014.000000</td>\n",
              "      <td>75014.000000</td>\n",
              "      <td>0.0</td>\n",
              "      <td>93920.000000</td>\n",
              "      <td>1.486361e+08</td>\n",
              "      <td>123925.000000</td>\n",
              "      <td>0.0</td>\n",
              "      <td>0.0</td>\n",
              "      <td>1.000000</td>\n",
              "      <td>2.000000</td>\n",
              "      <td>9.000000</td>\n",
              "      <td>4.000000</td>\n",
              "      <td>10.000000</td>\n",
              "      <td>1.475000e+06</td>\n",
              "      <td>0.000000</td>\n",
              "      <td>0.0</td>\n",
              "      <td>0.0</td>\n",
              "      <td>93.000000</td>\n",
              "    </tr>\n",
              "    <tr>\n",
              "      <th>75%</th>\n",
              "      <td>15.000000</td>\n",
              "      <td>750116.000000</td>\n",
              "      <td>75017.000000</td>\n",
              "      <td>75017.000000</td>\n",
              "      <td>0.0</td>\n",
              "      <td>203657.000000</td>\n",
              "      <td>1.495161e+08</td>\n",
              "      <td>213489.000000</td>\n",
              "      <td>0.0</td>\n",
              "      <td>0.0</td>\n",
              "      <td>3.000000</td>\n",
              "      <td>3.000000</td>\n",
              "      <td>12.000000</td>\n",
              "      <td>5.000000</td>\n",
              "      <td>15.000000</td>\n",
              "      <td>1.490000e+06</td>\n",
              "      <td>1.000000</td>\n",
              "      <td>0.0</td>\n",
              "      <td>0.0</td>\n",
              "      <td>129.000000</td>\n",
              "    </tr>\n",
              "    <tr>\n",
              "      <th>max</th>\n",
              "      <td>19.000000</td>\n",
              "      <td>950500.000000</td>\n",
              "      <td>95880.000000</td>\n",
              "      <td>95880.000000</td>\n",
              "      <td>0.0</td>\n",
              "      <td>362103.000000</td>\n",
              "      <td>1.502498e+08</td>\n",
              "      <td>425123.000000</td>\n",
              "      <td>0.0</td>\n",
              "      <td>0.0</td>\n",
              "      <td>3.000000</td>\n",
              "      <td>22.000000</td>\n",
              "      <td>27.000000</td>\n",
              "      <td>53.000000</td>\n",
              "      <td>19.000000</td>\n",
              "      <td>2.000000e+06</td>\n",
              "      <td>1.000000</td>\n",
              "      <td>0.0</td>\n",
              "      <td>0.0</td>\n",
              "      <td>250.000000</td>\n",
              "    </tr>\n",
              "  </tbody>\n",
              "</table>\n",
              "</div>\n",
              "    <div class=\"colab-df-buttons\">\n",
              "\n",
              "  <div class=\"colab-df-container\">\n",
              "    <button class=\"colab-df-convert\" onclick=\"convertToInteractive('df-53d349f9-4546-4a92-8dae-4dfc54ea6c2f')\"\n",
              "            title=\"Convert this dataframe to an interactive table.\"\n",
              "            style=\"display:none;\">\n",
              "\n",
              "  <svg xmlns=\"http://www.w3.org/2000/svg\" height=\"24px\" viewBox=\"0 -960 960 960\">\n",
              "    <path d=\"M120-120v-720h720v720H120Zm60-500h600v-160H180v160Zm220 220h160v-160H400v160Zm0 220h160v-160H400v160ZM180-400h160v-160H180v160Zm440 0h160v-160H620v160ZM180-180h160v-160H180v160Zm440 0h160v-160H620v160Z\"/>\n",
              "  </svg>\n",
              "    </button>\n",
              "\n",
              "  <style>\n",
              "    .colab-df-container {\n",
              "      display:flex;\n",
              "      gap: 12px;\n",
              "    }\n",
              "\n",
              "    .colab-df-convert {\n",
              "      background-color: #E8F0FE;\n",
              "      border: none;\n",
              "      border-radius: 50%;\n",
              "      cursor: pointer;\n",
              "      display: none;\n",
              "      fill: #1967D2;\n",
              "      height: 32px;\n",
              "      padding: 0 0 0 0;\n",
              "      width: 32px;\n",
              "    }\n",
              "\n",
              "    .colab-df-convert:hover {\n",
              "      background-color: #E2EBFA;\n",
              "      box-shadow: 0px 1px 2px rgba(60, 64, 67, 0.3), 0px 1px 3px 1px rgba(60, 64, 67, 0.15);\n",
              "      fill: #174EA6;\n",
              "    }\n",
              "\n",
              "    .colab-df-buttons div {\n",
              "      margin-bottom: 4px;\n",
              "    }\n",
              "\n",
              "    [theme=dark] .colab-df-convert {\n",
              "      background-color: #3B4455;\n",
              "      fill: #D2E3FC;\n",
              "    }\n",
              "\n",
              "    [theme=dark] .colab-df-convert:hover {\n",
              "      background-color: #434B5C;\n",
              "      box-shadow: 0px 1px 3px 1px rgba(0, 0, 0, 0.15);\n",
              "      filter: drop-shadow(0px 1px 2px rgba(0, 0, 0, 0.3));\n",
              "      fill: #FFFFFF;\n",
              "    }\n",
              "  </style>\n",
              "\n",
              "    <script>\n",
              "      const buttonEl =\n",
              "        document.querySelector('#df-53d349f9-4546-4a92-8dae-4dfc54ea6c2f button.colab-df-convert');\n",
              "      buttonEl.style.display =\n",
              "        google.colab.kernel.accessAllowed ? 'block' : 'none';\n",
              "\n",
              "      async function convertToInteractive(key) {\n",
              "        const element = document.querySelector('#df-53d349f9-4546-4a92-8dae-4dfc54ea6c2f');\n",
              "        const dataTable =\n",
              "          await google.colab.kernel.invokeFunction('convertToInteractive',\n",
              "                                                    [key], {});\n",
              "        if (!dataTable) return;\n",
              "\n",
              "        const docLinkHtml = 'Like what you see? Visit the ' +\n",
              "          '<a target=\"_blank\" href=https://colab.research.google.com/notebooks/data_table.ipynb>data table notebook</a>'\n",
              "          + ' to learn more about interactive tables.';\n",
              "        element.innerHTML = '';\n",
              "        dataTable['output_type'] = 'display_data';\n",
              "        await google.colab.output.renderOutput(dataTable, element);\n",
              "        const docLink = document.createElement('div');\n",
              "        docLink.innerHTML = docLinkHtml;\n",
              "        element.appendChild(docLink);\n",
              "      }\n",
              "    </script>\n",
              "  </div>\n",
              "\n",
              "\n",
              "<div id=\"df-6acdb3b9-899d-4ee6-8faa-a021e984ebea\">\n",
              "  <button class=\"colab-df-quickchart\" onclick=\"quickchart('df-6acdb3b9-899d-4ee6-8faa-a021e984ebea')\"\n",
              "            title=\"Suggest charts\"\n",
              "            style=\"display:none;\">\n",
              "\n",
              "<svg xmlns=\"http://www.w3.org/2000/svg\" height=\"24px\"viewBox=\"0 0 24 24\"\n",
              "     width=\"24px\">\n",
              "    <g>\n",
              "        <path d=\"M19 3H5c-1.1 0-2 .9-2 2v14c0 1.1.9 2 2 2h14c1.1 0 2-.9 2-2V5c0-1.1-.9-2-2-2zM9 17H7v-7h2v7zm4 0h-2V7h2v10zm4 0h-2v-4h2v4z\"/>\n",
              "    </g>\n",
              "</svg>\n",
              "  </button>\n",
              "\n",
              "<style>\n",
              "  .colab-df-quickchart {\n",
              "      --bg-color: #E8F0FE;\n",
              "      --fill-color: #1967D2;\n",
              "      --hover-bg-color: #E2EBFA;\n",
              "      --hover-fill-color: #174EA6;\n",
              "      --disabled-fill-color: #AAA;\n",
              "      --disabled-bg-color: #DDD;\n",
              "  }\n",
              "\n",
              "  [theme=dark] .colab-df-quickchart {\n",
              "      --bg-color: #3B4455;\n",
              "      --fill-color: #D2E3FC;\n",
              "      --hover-bg-color: #434B5C;\n",
              "      --hover-fill-color: #FFFFFF;\n",
              "      --disabled-bg-color: #3B4455;\n",
              "      --disabled-fill-color: #666;\n",
              "  }\n",
              "\n",
              "  .colab-df-quickchart {\n",
              "    background-color: var(--bg-color);\n",
              "    border: none;\n",
              "    border-radius: 50%;\n",
              "    cursor: pointer;\n",
              "    display: none;\n",
              "    fill: var(--fill-color);\n",
              "    height: 32px;\n",
              "    padding: 0;\n",
              "    width: 32px;\n",
              "  }\n",
              "\n",
              "  .colab-df-quickchart:hover {\n",
              "    background-color: var(--hover-bg-color);\n",
              "    box-shadow: 0 1px 2px rgba(60, 64, 67, 0.3), 0 1px 3px 1px rgba(60, 64, 67, 0.15);\n",
              "    fill: var(--button-hover-fill-color);\n",
              "  }\n",
              "\n",
              "  .colab-df-quickchart-complete:disabled,\n",
              "  .colab-df-quickchart-complete:disabled:hover {\n",
              "    background-color: var(--disabled-bg-color);\n",
              "    fill: var(--disabled-fill-color);\n",
              "    box-shadow: none;\n",
              "  }\n",
              "\n",
              "  .colab-df-spinner {\n",
              "    border: 2px solid var(--fill-color);\n",
              "    border-color: transparent;\n",
              "    border-bottom-color: var(--fill-color);\n",
              "    animation:\n",
              "      spin 1s steps(1) infinite;\n",
              "  }\n",
              "\n",
              "  @keyframes spin {\n",
              "    0% {\n",
              "      border-color: transparent;\n",
              "      border-bottom-color: var(--fill-color);\n",
              "      border-left-color: var(--fill-color);\n",
              "    }\n",
              "    20% {\n",
              "      border-color: transparent;\n",
              "      border-left-color: var(--fill-color);\n",
              "      border-top-color: var(--fill-color);\n",
              "    }\n",
              "    30% {\n",
              "      border-color: transparent;\n",
              "      border-left-color: var(--fill-color);\n",
              "      border-top-color: var(--fill-color);\n",
              "      border-right-color: var(--fill-color);\n",
              "    }\n",
              "    40% {\n",
              "      border-color: transparent;\n",
              "      border-right-color: var(--fill-color);\n",
              "      border-top-color: var(--fill-color);\n",
              "    }\n",
              "    60% {\n",
              "      border-color: transparent;\n",
              "      border-right-color: var(--fill-color);\n",
              "    }\n",
              "    80% {\n",
              "      border-color: transparent;\n",
              "      border-right-color: var(--fill-color);\n",
              "      border-bottom-color: var(--fill-color);\n",
              "    }\n",
              "    90% {\n",
              "      border-color: transparent;\n",
              "      border-bottom-color: var(--fill-color);\n",
              "    }\n",
              "  }\n",
              "</style>\n",
              "\n",
              "  <script>\n",
              "    async function quickchart(key) {\n",
              "      const quickchartButtonEl =\n",
              "        document.querySelector('#' + key + ' button');\n",
              "      quickchartButtonEl.disabled = true;  // To prevent multiple clicks.\n",
              "      quickchartButtonEl.classList.add('colab-df-spinner');\n",
              "      try {\n",
              "        const charts = await google.colab.kernel.invokeFunction(\n",
              "            'suggestCharts', [key], {});\n",
              "      } catch (error) {\n",
              "        console.error('Error during call to suggestCharts:', error);\n",
              "      }\n",
              "      quickchartButtonEl.classList.remove('colab-df-spinner');\n",
              "      quickchartButtonEl.classList.add('colab-df-quickchart-complete');\n",
              "    }\n",
              "    (() => {\n",
              "      let quickchartButtonEl =\n",
              "        document.querySelector('#df-6acdb3b9-899d-4ee6-8faa-a021e984ebea button');\n",
              "      quickchartButtonEl.style.display =\n",
              "        google.colab.kernel.accessAllowed ? 'block' : 'none';\n",
              "    })();\n",
              "  </script>\n",
              "</div>\n",
              "\n",
              "    </div>\n",
              "  </div>\n"
            ],
            "application/vnd.google.colaboratory.intrinsic+json": {
              "type": "dataframe",
              "summary": "{\n  \"name\": \"dataset\",\n  \"rows\": 8,\n  \"fields\": [\n    {\n      \"column\": \"number\",\n      \"properties\": {\n        \"dtype\": \"number\",\n        \"std\": 3143.02969513378,\n        \"min\": 0.0,\n        \"max\": 8899.0,\n        \"num_unique_values\": 8,\n        \"samples\": [\n          9.531295651196764,\n          10.0,\n          8899.0\n        ],\n        \"semantic_type\": \"\",\n        \"description\": \"\"\n      }\n    },\n    {\n      \"column\": \"codeinsee\",\n      \"properties\": {\n        \"dtype\": \"number\",\n        \"std\": 363608.62938521843,\n        \"min\": 8899.0,\n        \"max\": 950500.0,\n        \"num_unique_values\": 8,\n        \"samples\": [\n          751745.6801887853,\n          750114.0,\n          8899.0\n        ],\n        \"semantic_type\": \"\",\n        \"description\": \"\"\n      }\n    },\n    {\n      \"column\": \"codepostal\",\n      \"properties\": {\n        \"dtype\": \"number\",\n        \"std\": 34710.444036961664,\n        \"min\": 1660.0911886788774,\n        \"max\": 95880.0,\n        \"num_unique_values\": 8,\n        \"samples\": [\n          75186.14473536353,\n          75014.0,\n          8899.0\n        ],\n        \"semantic_type\": \"\",\n        \"description\": \"\"\n      }\n    },\n    {\n      \"column\": \"cp\",\n      \"properties\": {\n        \"dtype\": \"number\",\n        \"std\": 34710.444036961664,\n        \"min\": 1660.0911886788774,\n        \"max\": 95880.0,\n        \"num_unique_values\": 8,\n        \"samples\": [\n          75186.14473536353,\n          75014.0,\n          8899.0\n        ],\n        \"semantic_type\": \"\",\n        \"description\": \"\"\n      }\n    },\n    {\n      \"column\": \"etage\",\n      \"properties\": {\n        \"dtype\": \"number\",\n        \"std\": 3146.2716228895433,\n        \"min\": 0.0,\n        \"max\": 8899.0,\n        \"num_unique_values\": 2,\n        \"samples\": [\n          0.0,\n          8899.0\n        ],\n        \"semantic_type\": \"\",\n        \"description\": \"\"\n      }\n    },\n    {\n      \"column\": \"idagence\",\n      \"properties\": {\n        \"dtype\": \"number\",\n        \"std\": 119322.43322275401,\n        \"min\": 33.0,\n        \"max\": 362103.0,\n        \"num_unique_values\": 8,\n        \"samples\": [\n          124110.0942802562,\n          93920.0\n        ],\n        \"semantic_type\": \"\",\n        \"description\": \"\"\n      }\n    },\n    {\n      \"column\": \"idannonce\",\n      \"properties\": {\n        \"dtype\": \"number\",\n        \"std\": 67204967.93998112,\n        \"min\": 8899.0,\n        \"max\": 150249811.0,\n        \"num_unique_values\": 8,\n        \"samples\": [\n          147353076.88021126,\n          148636087.0\n        ],\n        \"semantic_type\": \"\",\n        \"description\": \"\"\n      }\n    },\n    {\n      \"column\": \"idtiers\",\n      \"properties\": {\n        \"dtype\": \"number\",\n        \"std\": 139801.17499619073,\n        \"min\": 98.0,\n        \"max\": 425123.0,\n        \"num_unique_values\": 8,\n        \"samples\": [\n          136989.25250028094,\n          123925.0\n        ],\n        \"semantic_type\": \"\",\n        \"description\": \"\"\n      }\n    },\n    {\n      \"column\": \"idtypechauffage\",\n      \"properties\": {\n        \"dtype\": \"number\",\n        \"std\": 3146.2716228895433,\n        \"min\": 0.0,\n        \"max\": 8899.0,\n        \"num_unique_values\": 2,\n        \"samples\": [\n          0.0,\n          8899.0\n        ],\n        \"semantic_type\": \"\",\n        \"description\": \"\"\n      }\n    },\n    {\n      \"column\": \"idtypecommerce\",\n      \"properties\": {\n        \"dtype\": \"number\",\n        \"std\": 3146.2716228895433,\n        \"min\": 0.0,\n        \"max\": 8899.0,\n        \"num_unique_values\": 2,\n        \"samples\": [\n          0.0,\n          8899.0\n        ],\n        \"semantic_type\": \"\",\n        \"description\": \"\"\n      }\n    },\n    {\n      \"column\": \"naturebien\",\n      \"properties\": {\n        \"dtype\": \"number\",\n        \"std\": 3145.687377574848,\n        \"min\": 0.9311844642457452,\n        \"max\": 8899.0,\n        \"num_unique_values\": 5,\n        \"samples\": [\n          1.6387234520732668,\n          3.0\n        ],\n        \"semantic_type\": \"\",\n        \"description\": \"\"\n      }\n    },\n    {\n      \"column\": \"nb_chambres\",\n      \"properties\": {\n        \"dtype\": \"number\",\n        \"std\": 3144.63867478995,\n        \"min\": 1.0,\n        \"max\": 8899.0,\n        \"num_unique_values\": 7,\n        \"samples\": [\n          8899.0,\n          2.3194740982132824\n        ],\n        \"semantic_type\": \"\",\n        \"description\": \"\"\n      }\n    },\n    {\n      \"column\": \"nb_photos\",\n      \"properties\": {\n        \"dtype\": \"number\",\n        \"std\": 3142.836570895326,\n        \"min\": 0.0,\n        \"max\": 8899.0,\n        \"num_unique_values\": 8,\n        \"samples\": [\n          9.697269356107428,\n          9.0\n        ],\n        \"semantic_type\": \"\",\n        \"description\": \"\"\n      }\n    },\n    {\n      \"column\": \"nb_pieces\",\n      \"properties\": {\n        \"dtype\": \"number\",\n        \"std\": 3142.7181942641955,\n        \"min\": 1.0,\n        \"max\": 8899.0,\n        \"num_unique_values\": 8,\n        \"samples\": [\n          3.8387459265085964,\n          4.0\n        ],\n        \"semantic_type\": \"\",\n        \"description\": \"\"\n      }\n    },\n    {\n      \"column\": \"position\",\n      \"properties\": {\n        \"dtype\": \"number\",\n        \"std\": 3143.02969513378,\n        \"min\": 0.0,\n        \"max\": 8899.0,\n        \"num_unique_values\": 8,\n        \"samples\": [\n          9.531295651196764,\n          10.0\n        ],\n        \"semantic_type\": \"\",\n        \"description\": \"\"\n      }\n    },\n    {\n      \"column\": \"prix\",\n      \"properties\": {\n        \"dtype\": \"number\",\n        \"std\": 726367.2075705173,\n        \"min\": 8899.0,\n        \"max\": 2000000.0,\n        \"num_unique_values\": 8,\n        \"samples\": [\n          1210578.988538038,\n          1475000.0\n        ],\n        \"semantic_type\": \"\",\n        \"description\": \"\"\n      }\n    },\n    {\n      \"column\": \"si_balcon\",\n      \"properties\": {\n        \"dtype\": \"number\",\n        \"std\": 3146.134442261072,\n        \"min\": 0.0,\n        \"max\": 8899.0,\n        \"num_unique_values\": 5,\n        \"samples\": [\n          0.27171592313743115,\n          1.0\n        ],\n        \"semantic_type\": \"\",\n        \"description\": \"\"\n      }\n    },\n    {\n      \"column\": \"si_sdEau\",\n      \"properties\": {\n        \"dtype\": \"number\",\n        \"std\": 3146.2716228895433,\n        \"min\": 0.0,\n        \"max\": 8899.0,\n        \"num_unique_values\": 2,\n        \"samples\": [\n          0.0,\n          8899.0\n        ],\n        \"semantic_type\": \"\",\n        \"description\": \"\"\n      }\n    },\n    {\n      \"column\": \"si_sdbain\",\n      \"properties\": {\n        \"dtype\": \"number\",\n        \"std\": 3146.2716228895433,\n        \"min\": 0.0,\n        \"max\": 8899.0,\n        \"num_unique_values\": 2,\n        \"samples\": [\n          0.0,\n          8899.0\n        ],\n        \"semantic_type\": \"\",\n        \"description\": \"\"\n      }\n    },\n    {\n      \"column\": \"surface\",\n      \"properties\": {\n        \"dtype\": \"number\",\n        \"std\": 3113.1781230796605,\n        \"min\": 0.0,\n        \"max\": 8899.0,\n        \"num_unique_values\": 8,\n        \"samples\": [\n          96.07070682099112,\n          93.0\n        ],\n        \"semantic_type\": \"\",\n        \"description\": \"\"\n      }\n    }\n  ]\n}"
            }
          },
          "metadata": {},
          "execution_count": 12
        }
      ]
    },
    {
      "cell_type": "markdown",
      "source": [
        "Ce résumé statistique comporte déjà plusieurs enseignements :\n",
        "\n",
        "* Les colonnes `etage`, `idtypechauffage`, `idtypecommerce`, `si_sdEau`,\t`si_sdbain` ne comportent que des valeurs nulles. Elles n'apportent donc aucune information pour expliquer ou prédire le prix.\n",
        "\n",
        "* Le jeu de données contient des outliers : on peut par exemple noter que le maximum du nombre de pièces est 53. De même le maximum du nombre de chambre est 22. Par ailleurs le minimum de la surface est 0.\n",
        "\n",
        "Regardons ces outliers plus en détails.\n"
      ],
      "metadata": {
        "id": "LE7r_S2J57FS"
      }
    },
    {
      "cell_type": "code",
      "source": [
        "# sélectionner la ligne qui correspond au bien ayant 53 pièces\n",
        "dataset[dataset['nb_pieces'] == 53]"
      ],
      "metadata": {
        "colab": {
          "base_uri": "https://localhost:8080/",
          "height": 146
        },
        "id": "o_WHHkFCDLAt",
        "outputId": "1b3104f1-19be-4e0c-d646-32ec94c1ff82"
      },
      "execution_count": null,
      "outputs": [
        {
          "output_type": "execute_result",
          "data": {
            "text/plain": [
              "      number  codeinsee  codepostal     cp  etage  idagence  idannonce  \\\n",
              "1318      18     750118       75018  75018      0    228375  149412073   \n",
              "\n",
              "      idtiers  idtypechauffage  idtypecommerce  ... nb_photos nb_pieces  \\\n",
              "1318   261580                0               0  ...        12        53   \n",
              "\n",
              "      position    prix  si_balcon  si_sdEau  si_sdbain  surface   typedebien  \\\n",
              "1318        18  580000          0         0          0     53.0  Appartement   \n",
              "\n",
              "            ville  \n",
              "1318  Paris 18ème  \n",
              "\n",
              "[1 rows x 24 columns]"
            ],
            "text/html": [
              "\n",
              "  <div id=\"df-65fe7729-d401-42aa-b992-886794e45590\" class=\"colab-df-container\">\n",
              "    <div>\n",
              "<style scoped>\n",
              "    .dataframe tbody tr th:only-of-type {\n",
              "        vertical-align: middle;\n",
              "    }\n",
              "\n",
              "    .dataframe tbody tr th {\n",
              "        vertical-align: top;\n",
              "    }\n",
              "\n",
              "    .dataframe thead th {\n",
              "        text-align: right;\n",
              "    }\n",
              "</style>\n",
              "<table border=\"1\" class=\"dataframe\">\n",
              "  <thead>\n",
              "    <tr style=\"text-align: right;\">\n",
              "      <th></th>\n",
              "      <th>number</th>\n",
              "      <th>codeinsee</th>\n",
              "      <th>codepostal</th>\n",
              "      <th>cp</th>\n",
              "      <th>etage</th>\n",
              "      <th>idagence</th>\n",
              "      <th>idannonce</th>\n",
              "      <th>idtiers</th>\n",
              "      <th>idtypechauffage</th>\n",
              "      <th>idtypecommerce</th>\n",
              "      <th>...</th>\n",
              "      <th>nb_photos</th>\n",
              "      <th>nb_pieces</th>\n",
              "      <th>position</th>\n",
              "      <th>prix</th>\n",
              "      <th>si_balcon</th>\n",
              "      <th>si_sdEau</th>\n",
              "      <th>si_sdbain</th>\n",
              "      <th>surface</th>\n",
              "      <th>typedebien</th>\n",
              "      <th>ville</th>\n",
              "    </tr>\n",
              "  </thead>\n",
              "  <tbody>\n",
              "    <tr>\n",
              "      <th>1318</th>\n",
              "      <td>18</td>\n",
              "      <td>750118</td>\n",
              "      <td>75018</td>\n",
              "      <td>75018</td>\n",
              "      <td>0</td>\n",
              "      <td>228375</td>\n",
              "      <td>149412073</td>\n",
              "      <td>261580</td>\n",
              "      <td>0</td>\n",
              "      <td>0</td>\n",
              "      <td>...</td>\n",
              "      <td>12</td>\n",
              "      <td>53</td>\n",
              "      <td>18</td>\n",
              "      <td>580000</td>\n",
              "      <td>0</td>\n",
              "      <td>0</td>\n",
              "      <td>0</td>\n",
              "      <td>53.0</td>\n",
              "      <td>Appartement</td>\n",
              "      <td>Paris 18ème</td>\n",
              "    </tr>\n",
              "  </tbody>\n",
              "</table>\n",
              "<p>1 rows × 24 columns</p>\n",
              "</div>\n",
              "    <div class=\"colab-df-buttons\">\n",
              "\n",
              "  <div class=\"colab-df-container\">\n",
              "    <button class=\"colab-df-convert\" onclick=\"convertToInteractive('df-65fe7729-d401-42aa-b992-886794e45590')\"\n",
              "            title=\"Convert this dataframe to an interactive table.\"\n",
              "            style=\"display:none;\">\n",
              "\n",
              "  <svg xmlns=\"http://www.w3.org/2000/svg\" height=\"24px\" viewBox=\"0 -960 960 960\">\n",
              "    <path d=\"M120-120v-720h720v720H120Zm60-500h600v-160H180v160Zm220 220h160v-160H400v160Zm0 220h160v-160H400v160ZM180-400h160v-160H180v160Zm440 0h160v-160H620v160ZM180-180h160v-160H180v160Zm440 0h160v-160H620v160Z\"/>\n",
              "  </svg>\n",
              "    </button>\n",
              "\n",
              "  <style>\n",
              "    .colab-df-container {\n",
              "      display:flex;\n",
              "      gap: 12px;\n",
              "    }\n",
              "\n",
              "    .colab-df-convert {\n",
              "      background-color: #E8F0FE;\n",
              "      border: none;\n",
              "      border-radius: 50%;\n",
              "      cursor: pointer;\n",
              "      display: none;\n",
              "      fill: #1967D2;\n",
              "      height: 32px;\n",
              "      padding: 0 0 0 0;\n",
              "      width: 32px;\n",
              "    }\n",
              "\n",
              "    .colab-df-convert:hover {\n",
              "      background-color: #E2EBFA;\n",
              "      box-shadow: 0px 1px 2px rgba(60, 64, 67, 0.3), 0px 1px 3px 1px rgba(60, 64, 67, 0.15);\n",
              "      fill: #174EA6;\n",
              "    }\n",
              "\n",
              "    .colab-df-buttons div {\n",
              "      margin-bottom: 4px;\n",
              "    }\n",
              "\n",
              "    [theme=dark] .colab-df-convert {\n",
              "      background-color: #3B4455;\n",
              "      fill: #D2E3FC;\n",
              "    }\n",
              "\n",
              "    [theme=dark] .colab-df-convert:hover {\n",
              "      background-color: #434B5C;\n",
              "      box-shadow: 0px 1px 3px 1px rgba(0, 0, 0, 0.15);\n",
              "      filter: drop-shadow(0px 1px 2px rgba(0, 0, 0, 0.3));\n",
              "      fill: #FFFFFF;\n",
              "    }\n",
              "  </style>\n",
              "\n",
              "    <script>\n",
              "      const buttonEl =\n",
              "        document.querySelector('#df-65fe7729-d401-42aa-b992-886794e45590 button.colab-df-convert');\n",
              "      buttonEl.style.display =\n",
              "        google.colab.kernel.accessAllowed ? 'block' : 'none';\n",
              "\n",
              "      async function convertToInteractive(key) {\n",
              "        const element = document.querySelector('#df-65fe7729-d401-42aa-b992-886794e45590');\n",
              "        const dataTable =\n",
              "          await google.colab.kernel.invokeFunction('convertToInteractive',\n",
              "                                                    [key], {});\n",
              "        if (!dataTable) return;\n",
              "\n",
              "        const docLinkHtml = 'Like what you see? Visit the ' +\n",
              "          '<a target=\"_blank\" href=https://colab.research.google.com/notebooks/data_table.ipynb>data table notebook</a>'\n",
              "          + ' to learn more about interactive tables.';\n",
              "        element.innerHTML = '';\n",
              "        dataTable['output_type'] = 'display_data';\n",
              "        await google.colab.output.renderOutput(dataTable, element);\n",
              "        const docLink = document.createElement('div');\n",
              "        docLink.innerHTML = docLinkHtml;\n",
              "        element.appendChild(docLink);\n",
              "      }\n",
              "    </script>\n",
              "  </div>\n",
              "\n",
              "\n",
              "    </div>\n",
              "  </div>\n"
            ],
            "application/vnd.google.colaboratory.intrinsic+json": {
              "type": "dataframe"
            }
          },
          "metadata": {},
          "execution_count": 13
        }
      ]
    },
    {
      "cell_type": "code",
      "source": [
        "# Sélectionner la ligne qui correspond au bien ayant 22 chambres\n",
        "\n",
        "dataset[dataset['nb_chambres'] == 22]"
      ],
      "metadata": {
        "colab": {
          "base_uri": "https://localhost:8080/",
          "height": 146
        },
        "id": "AtL9WbHkDdCN",
        "outputId": "391cb905-8861-4dd8-e63a-748f6a1da2eb"
      },
      "execution_count": null,
      "outputs": [
        {
          "output_type": "execute_result",
          "data": {
            "text/plain": [
              "      number  codeinsee  codepostal     cp  etage  idagence  idannonce  \\\n",
              "1236       0     750115       75015  75015      0    260996  146819689   \n",
              "\n",
              "      idtiers  idtypechauffage  idtypecommerce  ... nb_photos nb_pieces  \\\n",
              "1236   282708                0               0  ...         4         3   \n",
              "\n",
              "      position    prix  si_balcon  si_sdEau  si_sdbain  surface   typedebien  \\\n",
              "1236         0  567000          0         0          0     77.0  Appartement   \n",
              "\n",
              "            ville  \n",
              "1236  Paris 15ème  \n",
              "\n",
              "[1 rows x 24 columns]"
            ],
            "text/html": [
              "\n",
              "  <div id=\"df-f6679c3d-bfe5-4d53-8d59-1f5d8623be70\" class=\"colab-df-container\">\n",
              "    <div>\n",
              "<style scoped>\n",
              "    .dataframe tbody tr th:only-of-type {\n",
              "        vertical-align: middle;\n",
              "    }\n",
              "\n",
              "    .dataframe tbody tr th {\n",
              "        vertical-align: top;\n",
              "    }\n",
              "\n",
              "    .dataframe thead th {\n",
              "        text-align: right;\n",
              "    }\n",
              "</style>\n",
              "<table border=\"1\" class=\"dataframe\">\n",
              "  <thead>\n",
              "    <tr style=\"text-align: right;\">\n",
              "      <th></th>\n",
              "      <th>number</th>\n",
              "      <th>codeinsee</th>\n",
              "      <th>codepostal</th>\n",
              "      <th>cp</th>\n",
              "      <th>etage</th>\n",
              "      <th>idagence</th>\n",
              "      <th>idannonce</th>\n",
              "      <th>idtiers</th>\n",
              "      <th>idtypechauffage</th>\n",
              "      <th>idtypecommerce</th>\n",
              "      <th>...</th>\n",
              "      <th>nb_photos</th>\n",
              "      <th>nb_pieces</th>\n",
              "      <th>position</th>\n",
              "      <th>prix</th>\n",
              "      <th>si_balcon</th>\n",
              "      <th>si_sdEau</th>\n",
              "      <th>si_sdbain</th>\n",
              "      <th>surface</th>\n",
              "      <th>typedebien</th>\n",
              "      <th>ville</th>\n",
              "    </tr>\n",
              "  </thead>\n",
              "  <tbody>\n",
              "    <tr>\n",
              "      <th>1236</th>\n",
              "      <td>0</td>\n",
              "      <td>750115</td>\n",
              "      <td>75015</td>\n",
              "      <td>75015</td>\n",
              "      <td>0</td>\n",
              "      <td>260996</td>\n",
              "      <td>146819689</td>\n",
              "      <td>282708</td>\n",
              "      <td>0</td>\n",
              "      <td>0</td>\n",
              "      <td>...</td>\n",
              "      <td>4</td>\n",
              "      <td>3</td>\n",
              "      <td>0</td>\n",
              "      <td>567000</td>\n",
              "      <td>0</td>\n",
              "      <td>0</td>\n",
              "      <td>0</td>\n",
              "      <td>77.0</td>\n",
              "      <td>Appartement</td>\n",
              "      <td>Paris 15ème</td>\n",
              "    </tr>\n",
              "  </tbody>\n",
              "</table>\n",
              "<p>1 rows × 24 columns</p>\n",
              "</div>\n",
              "    <div class=\"colab-df-buttons\">\n",
              "\n",
              "  <div class=\"colab-df-container\">\n",
              "    <button class=\"colab-df-convert\" onclick=\"convertToInteractive('df-f6679c3d-bfe5-4d53-8d59-1f5d8623be70')\"\n",
              "            title=\"Convert this dataframe to an interactive table.\"\n",
              "            style=\"display:none;\">\n",
              "\n",
              "  <svg xmlns=\"http://www.w3.org/2000/svg\" height=\"24px\" viewBox=\"0 -960 960 960\">\n",
              "    <path d=\"M120-120v-720h720v720H120Zm60-500h600v-160H180v160Zm220 220h160v-160H400v160Zm0 220h160v-160H400v160ZM180-400h160v-160H180v160Zm440 0h160v-160H620v160ZM180-180h160v-160H180v160Zm440 0h160v-160H620v160Z\"/>\n",
              "  </svg>\n",
              "    </button>\n",
              "\n",
              "  <style>\n",
              "    .colab-df-container {\n",
              "      display:flex;\n",
              "      gap: 12px;\n",
              "    }\n",
              "\n",
              "    .colab-df-convert {\n",
              "      background-color: #E8F0FE;\n",
              "      border: none;\n",
              "      border-radius: 50%;\n",
              "      cursor: pointer;\n",
              "      display: none;\n",
              "      fill: #1967D2;\n",
              "      height: 32px;\n",
              "      padding: 0 0 0 0;\n",
              "      width: 32px;\n",
              "    }\n",
              "\n",
              "    .colab-df-convert:hover {\n",
              "      background-color: #E2EBFA;\n",
              "      box-shadow: 0px 1px 2px rgba(60, 64, 67, 0.3), 0px 1px 3px 1px rgba(60, 64, 67, 0.15);\n",
              "      fill: #174EA6;\n",
              "    }\n",
              "\n",
              "    .colab-df-buttons div {\n",
              "      margin-bottom: 4px;\n",
              "    }\n",
              "\n",
              "    [theme=dark] .colab-df-convert {\n",
              "      background-color: #3B4455;\n",
              "      fill: #D2E3FC;\n",
              "    }\n",
              "\n",
              "    [theme=dark] .colab-df-convert:hover {\n",
              "      background-color: #434B5C;\n",
              "      box-shadow: 0px 1px 3px 1px rgba(0, 0, 0, 0.15);\n",
              "      filter: drop-shadow(0px 1px 2px rgba(0, 0, 0, 0.3));\n",
              "      fill: #FFFFFF;\n",
              "    }\n",
              "  </style>\n",
              "\n",
              "    <script>\n",
              "      const buttonEl =\n",
              "        document.querySelector('#df-f6679c3d-bfe5-4d53-8d59-1f5d8623be70 button.colab-df-convert');\n",
              "      buttonEl.style.display =\n",
              "        google.colab.kernel.accessAllowed ? 'block' : 'none';\n",
              "\n",
              "      async function convertToInteractive(key) {\n",
              "        const element = document.querySelector('#df-f6679c3d-bfe5-4d53-8d59-1f5d8623be70');\n",
              "        const dataTable =\n",
              "          await google.colab.kernel.invokeFunction('convertToInteractive',\n",
              "                                                    [key], {});\n",
              "        if (!dataTable) return;\n",
              "\n",
              "        const docLinkHtml = 'Like what you see? Visit the ' +\n",
              "          '<a target=\"_blank\" href=https://colab.research.google.com/notebooks/data_table.ipynb>data table notebook</a>'\n",
              "          + ' to learn more about interactive tables.';\n",
              "        element.innerHTML = '';\n",
              "        dataTable['output_type'] = 'display_data';\n",
              "        await google.colab.output.renderOutput(dataTable, element);\n",
              "        const docLink = document.createElement('div');\n",
              "        docLink.innerHTML = docLinkHtml;\n",
              "        element.appendChild(docLink);\n",
              "      }\n",
              "    </script>\n",
              "  </div>\n",
              "\n",
              "\n",
              "    </div>\n",
              "  </div>\n"
            ],
            "application/vnd.google.colaboratory.intrinsic+json": {
              "type": "dataframe"
            }
          },
          "metadata": {},
          "execution_count": 14
        }
      ]
    },
    {
      "cell_type": "code",
      "source": [
        "# Sélectionner la ligne qui correspond au bien dont la surface est nulle\n",
        "\n",
        "dataset[dataset['surface'] == 0]"
      ],
      "metadata": {
        "colab": {
          "base_uri": "https://localhost:8080/",
          "height": 146
        },
        "id": "i80u1rg1DpiY",
        "outputId": "a99cb3bf-6d16-4c49-86ac-7223dacefe31"
      },
      "execution_count": null,
      "outputs": [
        {
          "output_type": "execute_result",
          "data": {
            "text/plain": [
              "      number  codeinsee  codepostal     cp  etage  idagence  idannonce  \\\n",
              "2030       3     750116       75016  75016      0     76979  147347131   \n",
              "\n",
              "      idtiers  idtypechauffage  idtypecommerce  ... nb_photos nb_pieces  \\\n",
              "2030   108380                0               0  ...         6         4   \n",
              "\n",
              "      position    prix  si_balcon  si_sdEau  si_sdbain  surface   typedebien  \\\n",
              "2030         3  747840          0         0          0      0.0  Appartement   \n",
              "\n",
              "            ville  \n",
              "2030  Paris 16ème  \n",
              "\n",
              "[1 rows x 24 columns]"
            ],
            "text/html": [
              "\n",
              "  <div id=\"df-e5561674-78b3-494f-b3f6-156141c26aac\" class=\"colab-df-container\">\n",
              "    <div>\n",
              "<style scoped>\n",
              "    .dataframe tbody tr th:only-of-type {\n",
              "        vertical-align: middle;\n",
              "    }\n",
              "\n",
              "    .dataframe tbody tr th {\n",
              "        vertical-align: top;\n",
              "    }\n",
              "\n",
              "    .dataframe thead th {\n",
              "        text-align: right;\n",
              "    }\n",
              "</style>\n",
              "<table border=\"1\" class=\"dataframe\">\n",
              "  <thead>\n",
              "    <tr style=\"text-align: right;\">\n",
              "      <th></th>\n",
              "      <th>number</th>\n",
              "      <th>codeinsee</th>\n",
              "      <th>codepostal</th>\n",
              "      <th>cp</th>\n",
              "      <th>etage</th>\n",
              "      <th>idagence</th>\n",
              "      <th>idannonce</th>\n",
              "      <th>idtiers</th>\n",
              "      <th>idtypechauffage</th>\n",
              "      <th>idtypecommerce</th>\n",
              "      <th>...</th>\n",
              "      <th>nb_photos</th>\n",
              "      <th>nb_pieces</th>\n",
              "      <th>position</th>\n",
              "      <th>prix</th>\n",
              "      <th>si_balcon</th>\n",
              "      <th>si_sdEau</th>\n",
              "      <th>si_sdbain</th>\n",
              "      <th>surface</th>\n",
              "      <th>typedebien</th>\n",
              "      <th>ville</th>\n",
              "    </tr>\n",
              "  </thead>\n",
              "  <tbody>\n",
              "    <tr>\n",
              "      <th>2030</th>\n",
              "      <td>3</td>\n",
              "      <td>750116</td>\n",
              "      <td>75016</td>\n",
              "      <td>75016</td>\n",
              "      <td>0</td>\n",
              "      <td>76979</td>\n",
              "      <td>147347131</td>\n",
              "      <td>108380</td>\n",
              "      <td>0</td>\n",
              "      <td>0</td>\n",
              "      <td>...</td>\n",
              "      <td>6</td>\n",
              "      <td>4</td>\n",
              "      <td>3</td>\n",
              "      <td>747840</td>\n",
              "      <td>0</td>\n",
              "      <td>0</td>\n",
              "      <td>0</td>\n",
              "      <td>0.0</td>\n",
              "      <td>Appartement</td>\n",
              "      <td>Paris 16ème</td>\n",
              "    </tr>\n",
              "  </tbody>\n",
              "</table>\n",
              "<p>1 rows × 24 columns</p>\n",
              "</div>\n",
              "    <div class=\"colab-df-buttons\">\n",
              "\n",
              "  <div class=\"colab-df-container\">\n",
              "    <button class=\"colab-df-convert\" onclick=\"convertToInteractive('df-e5561674-78b3-494f-b3f6-156141c26aac')\"\n",
              "            title=\"Convert this dataframe to an interactive table.\"\n",
              "            style=\"display:none;\">\n",
              "\n",
              "  <svg xmlns=\"http://www.w3.org/2000/svg\" height=\"24px\" viewBox=\"0 -960 960 960\">\n",
              "    <path d=\"M120-120v-720h720v720H120Zm60-500h600v-160H180v160Zm220 220h160v-160H400v160Zm0 220h160v-160H400v160ZM180-400h160v-160H180v160Zm440 0h160v-160H620v160ZM180-180h160v-160H180v160Zm440 0h160v-160H620v160Z\"/>\n",
              "  </svg>\n",
              "    </button>\n",
              "\n",
              "  <style>\n",
              "    .colab-df-container {\n",
              "      display:flex;\n",
              "      gap: 12px;\n",
              "    }\n",
              "\n",
              "    .colab-df-convert {\n",
              "      background-color: #E8F0FE;\n",
              "      border: none;\n",
              "      border-radius: 50%;\n",
              "      cursor: pointer;\n",
              "      display: none;\n",
              "      fill: #1967D2;\n",
              "      height: 32px;\n",
              "      padding: 0 0 0 0;\n",
              "      width: 32px;\n",
              "    }\n",
              "\n",
              "    .colab-df-convert:hover {\n",
              "      background-color: #E2EBFA;\n",
              "      box-shadow: 0px 1px 2px rgba(60, 64, 67, 0.3), 0px 1px 3px 1px rgba(60, 64, 67, 0.15);\n",
              "      fill: #174EA6;\n",
              "    }\n",
              "\n",
              "    .colab-df-buttons div {\n",
              "      margin-bottom: 4px;\n",
              "    }\n",
              "\n",
              "    [theme=dark] .colab-df-convert {\n",
              "      background-color: #3B4455;\n",
              "      fill: #D2E3FC;\n",
              "    }\n",
              "\n",
              "    [theme=dark] .colab-df-convert:hover {\n",
              "      background-color: #434B5C;\n",
              "      box-shadow: 0px 1px 3px 1px rgba(0, 0, 0, 0.15);\n",
              "      filter: drop-shadow(0px 1px 2px rgba(0, 0, 0, 0.3));\n",
              "      fill: #FFFFFF;\n",
              "    }\n",
              "  </style>\n",
              "\n",
              "    <script>\n",
              "      const buttonEl =\n",
              "        document.querySelector('#df-e5561674-78b3-494f-b3f6-156141c26aac button.colab-df-convert');\n",
              "      buttonEl.style.display =\n",
              "        google.colab.kernel.accessAllowed ? 'block' : 'none';\n",
              "\n",
              "      async function convertToInteractive(key) {\n",
              "        const element = document.querySelector('#df-e5561674-78b3-494f-b3f6-156141c26aac');\n",
              "        const dataTable =\n",
              "          await google.colab.kernel.invokeFunction('convertToInteractive',\n",
              "                                                    [key], {});\n",
              "        if (!dataTable) return;\n",
              "\n",
              "        const docLinkHtml = 'Like what you see? Visit the ' +\n",
              "          '<a target=\"_blank\" href=https://colab.research.google.com/notebooks/data_table.ipynb>data table notebook</a>'\n",
              "          + ' to learn more about interactive tables.';\n",
              "        element.innerHTML = '';\n",
              "        dataTable['output_type'] = 'display_data';\n",
              "        await google.colab.output.renderOutput(dataTable, element);\n",
              "        const docLink = document.createElement('div');\n",
              "        docLink.innerHTML = docLinkHtml;\n",
              "        element.appendChild(docLink);\n",
              "      }\n",
              "    </script>\n",
              "  </div>\n",
              "\n",
              "\n",
              "    </div>\n",
              "  </div>\n"
            ],
            "application/vnd.google.colaboratory.intrinsic+json": {
              "type": "dataframe"
            }
          },
          "metadata": {},
          "execution_count": 15
        }
      ]
    },
    {
      "cell_type": "markdown",
      "source": [
        "Il s'agit clairement de valeurs aberrantes, que l'on va enlever."
      ],
      "metadata": {
        "id": "XKQdBR9aD8oG"
      }
    },
    {
      "cell_type": "code",
      "source": [
        "# Supprimer les lignes aberrantes\n",
        "\n",
        "dataset.drop([1236, 1318, 2030], axis = 0, inplace = True)"
      ],
      "metadata": {
        "id": "qDizSMLzD7T2"
      },
      "execution_count": null,
      "outputs": []
    },
    {
      "cell_type": "markdown",
      "source": [
        "Ragrdons maintenant la cardinalité des différentes variables. Ce qui nous intéresse ici, ce sont les variables catégorielles."
      ],
      "metadata": {
        "id": "gczfBjRwDLyy"
      }
    },
    {
      "cell_type": "code",
      "execution_count": null,
      "metadata": {
        "id": "0xee2la0md-Y",
        "outputId": "bd205409-4ac6-4441-8840-94cc84fedabd",
        "colab": {
          "base_uri": "https://localhost:8080/"
        }
      },
      "outputs": [
        {
          "output_type": "execute_result",
          "data": {
            "text/plain": [
              "si_sdbain                             1\n",
              "si_sdEau                              1\n",
              "etage                                 1\n",
              "idtypechauffage                       1\n",
              "idtypecommerce                        1\n",
              "si_balcon                             2\n",
              "typedebien                            2\n",
              "idtypepublicationsourcecouplage       3\n",
              "naturebien                            3\n",
              "nb_chambres                           6\n",
              "nb_pieces                             8\n",
              "idtypecuisine                        10\n",
              "position                             20\n",
              "number                               20\n",
              "nb_photos                            27\n",
              "cp                                  105\n",
              "codepostal                          105\n",
              "codeinsee                           107\n",
              "ville                               112\n",
              "prix                               1051\n",
              "surface                            1217\n",
              "idagence                           1412\n",
              "idtiers                            1412\n",
              "idannonce                          3812\n",
              "dtype: int64"
            ]
          },
          "metadata": {},
          "execution_count": 17
        }
      ],
      "source": [
        "# Combien de valeurs uniques possède chaque colonne ?\n",
        "dataset.nunique().sort_values()"
      ]
    },
    {
      "cell_type": "markdown",
      "metadata": {
        "id": "-UzFHRq5md-Y"
      },
      "source": [
        "* Les variables `si_sdbain`, `si_sdEau`, `etage`, `idtypechauffage`, `idtypecommerce` ne comportent qu'une unique valeur, comme nous venons de le voir plus haut.\n",
        "* `cp` et `codepostal` semblent se référer à la même variable. Par ailleurs, `codeinsee` et `ville` ont l'air de vehiculer plus ou moins la même information. En première approximation nous ne garderons qu'une seule de ces 4 variables.\n",
        "\n",
        "* Les variables `position` et `number` ont le même nombre de modalités.\n",
        "\n",
        "* Plus important peut-être, il y a 3815 modalités pour `idannonce` (annonces différentes) alors que le jeu de données contient 8899 lignes. On peut soupçonner ici la présence de doublons.\n",
        "\n",
        "* Les variables `idagence` et`idtiers` ont le même nombre de modalités, très élevé. Il y a 1413 modalités pour chacune des variables alors qu'il n'y a potentiellement que 3815 annonces uniques, soit un peu plus de deux annonces par modalité de `idagence`.\n",
        "\n",
        "Regardons ce dernier point plus en détails.\n",
        "\n"
      ]
    },
    {
      "cell_type": "code",
      "source": [
        "idanonce_counts = dataset['idannonce'].value_counts()\n",
        "display(idanonce_counts)\n",
        "idanonce_counts.values[:100]"
      ],
      "metadata": {
        "colab": {
          "base_uri": "https://localhost:8080/",
          "height": 374
        },
        "id": "m_2DE4dIGTkn",
        "outputId": "d94c8c34-1102-472a-df88-153bb3c1447c"
      },
      "execution_count": null,
      "outputs": [
        {
          "output_type": "display_data",
          "data": {
            "text/plain": [
              "idannonce\n",
              "148873133    202\n",
              "145808025    202\n",
              "148745275    202\n",
              "149681309    202\n",
              "149141835    202\n",
              "            ... \n",
              "150023825      1\n",
              "146139955      1\n",
              "148608603      1\n",
              "148460561      1\n",
              "148377757      1\n",
              "Name: count, Length: 3812, dtype: int64"
            ]
          },
          "metadata": {}
        },
        {
          "output_type": "execute_result",
          "data": {
            "text/plain": [
              "array([202, 202, 202, 202, 202, 202, 202, 202, 202, 202, 202, 202, 202,\n",
              "       202, 202, 202, 202, 202, 202, 202,  53,  53,  53,  53,  53,  53,\n",
              "        53,  53,  53,  53,  53,  53,  53,  53,  53,  53,  53,  53,  53,\n",
              "        53,   2,   2,   2,   2,   2,   2,   2,   2,   2,   2,   2,   2,\n",
              "         2,   2,   2,   2,   2,   2,   2,   2,   2,   2,   2,   2,   1,\n",
              "         1,   1,   1,   1,   1,   1,   1,   1,   1,   1,   1,   1,   1,\n",
              "         1,   1,   1,   1,   1,   1,   1,   1,   1,   1,   1,   1,   1,\n",
              "         1,   1,   1,   1,   1,   1,   1,   1,   1])"
            ]
          },
          "metadata": {},
          "execution_count": 18
        }
      ]
    },
    {
      "cell_type": "markdown",
      "source": [
        "On peut noter la présence d'annonces qui se répètent 202 ou 53 fois. Il s'agit probablement de doublons dus à la fusions de plusieurs bases de données."
      ],
      "metadata": {
        "id": "v0EkqGtAG-SI"
      }
    },
    {
      "cell_type": "code",
      "source": [
        "# Supprimer les doublons\n",
        "dataset.drop_duplicates(inplace = True)\n",
        "dataset.shape"
      ],
      "metadata": {
        "colab": {
          "base_uri": "https://localhost:8080/"
        },
        "id": "wMTO5Zt5HZL9",
        "outputId": "b84d3244-3156-41b1-cb00-f70dd5214e0f"
      },
      "execution_count": null,
      "outputs": [
        {
          "output_type": "execute_result",
          "data": {
            "text/plain": [
              "(3833, 24)"
            ]
          },
          "metadata": {},
          "execution_count": 19
        }
      ]
    },
    {
      "cell_type": "code",
      "execution_count": null,
      "metadata": {
        "id": "TietVngGmd-Z",
        "outputId": "23b2505b-e7b9-4f82-a224-96a8e9b961c5",
        "colab": {
          "base_uri": "https://localhost:8080/"
        }
      },
      "outputs": [
        {
          "output_type": "execute_result",
          "data": {
            "text/plain": [
              "True"
            ]
          },
          "metadata": {},
          "execution_count": 20
        }
      ],
      "source": [
        "# Les colonnes sont identiques, on ne va en garder qu'une seule.\n",
        "dataset['cp'].equals(dataset['codepostal'])"
      ]
    },
    {
      "cell_type": "code",
      "execution_count": null,
      "metadata": {
        "id": "OsiBB1Zrmd-Z",
        "outputId": "ffb50a2a-2866-47d0-ac09-a41899811bc8",
        "colab": {
          "base_uri": "https://localhost:8080/"
        }
      },
      "outputs": [
        {
          "output_type": "execute_result",
          "data": {
            "text/plain": [
              "True"
            ]
          },
          "metadata": {},
          "execution_count": 21
        }
      ],
      "source": [
        "# Les colonnes sont identiques, on ne va en garder qu'une seule.\n",
        "dataset['position'].equals(dataset['number'])"
      ]
    },
    {
      "cell_type": "code",
      "execution_count": null,
      "metadata": {
        "id": "pHyuoNnlmd-Z",
        "outputId": "023d8597-e5b5-4c8b-90a5-47347a77cefc",
        "colab": {
          "base_uri": "https://localhost:8080/"
        }
      },
      "outputs": [
        {
          "output_type": "execute_result",
          "data": {
            "text/plain": [
              "False"
            ]
          },
          "metadata": {},
          "execution_count": 22
        }
      ],
      "source": [
        "# Les colonnes ne continennt pas les mêmes valeurs\n",
        "dataset['idtiers'].equals(dataset['idagence'])"
      ]
    },
    {
      "cell_type": "code",
      "execution_count": null,
      "metadata": {
        "id": "ErEy5SQsmd-Z",
        "outputId": "022ccac7-1fcb-4f7b-f927-8fd4140b5376",
        "colab": {
          "base_uri": "https://localhost:8080/",
          "height": 204
        }
      },
      "outputs": [
        {
          "output_type": "execute_result",
          "data": {
            "text/plain": [
              "   idtiers  idagence\n",
              "0   227883    178817\n",
              "1     3765     12089\n",
              "2   108873    115811\n",
              "3     3765     12089\n",
              "4   145098     97567"
            ],
            "text/html": [
              "\n",
              "  <div id=\"df-b1ce7c86-0417-4233-8f1b-dc82e702a37b\" class=\"colab-df-container\">\n",
              "    <div>\n",
              "<style scoped>\n",
              "    .dataframe tbody tr th:only-of-type {\n",
              "        vertical-align: middle;\n",
              "    }\n",
              "\n",
              "    .dataframe tbody tr th {\n",
              "        vertical-align: top;\n",
              "    }\n",
              "\n",
              "    .dataframe thead th {\n",
              "        text-align: right;\n",
              "    }\n",
              "</style>\n",
              "<table border=\"1\" class=\"dataframe\">\n",
              "  <thead>\n",
              "    <tr style=\"text-align: right;\">\n",
              "      <th></th>\n",
              "      <th>idtiers</th>\n",
              "      <th>idagence</th>\n",
              "    </tr>\n",
              "  </thead>\n",
              "  <tbody>\n",
              "    <tr>\n",
              "      <th>0</th>\n",
              "      <td>227883</td>\n",
              "      <td>178817</td>\n",
              "    </tr>\n",
              "    <tr>\n",
              "      <th>1</th>\n",
              "      <td>3765</td>\n",
              "      <td>12089</td>\n",
              "    </tr>\n",
              "    <tr>\n",
              "      <th>2</th>\n",
              "      <td>108873</td>\n",
              "      <td>115811</td>\n",
              "    </tr>\n",
              "    <tr>\n",
              "      <th>3</th>\n",
              "      <td>3765</td>\n",
              "      <td>12089</td>\n",
              "    </tr>\n",
              "    <tr>\n",
              "      <th>4</th>\n",
              "      <td>145098</td>\n",
              "      <td>97567</td>\n",
              "    </tr>\n",
              "  </tbody>\n",
              "</table>\n",
              "</div>\n",
              "    <div class=\"colab-df-buttons\">\n",
              "\n",
              "  <div class=\"colab-df-container\">\n",
              "    <button class=\"colab-df-convert\" onclick=\"convertToInteractive('df-b1ce7c86-0417-4233-8f1b-dc82e702a37b')\"\n",
              "            title=\"Convert this dataframe to an interactive table.\"\n",
              "            style=\"display:none;\">\n",
              "\n",
              "  <svg xmlns=\"http://www.w3.org/2000/svg\" height=\"24px\" viewBox=\"0 -960 960 960\">\n",
              "    <path d=\"M120-120v-720h720v720H120Zm60-500h600v-160H180v160Zm220 220h160v-160H400v160Zm0 220h160v-160H400v160ZM180-400h160v-160H180v160Zm440 0h160v-160H620v160ZM180-180h160v-160H180v160Zm440 0h160v-160H620v160Z\"/>\n",
              "  </svg>\n",
              "    </button>\n",
              "\n",
              "  <style>\n",
              "    .colab-df-container {\n",
              "      display:flex;\n",
              "      gap: 12px;\n",
              "    }\n",
              "\n",
              "    .colab-df-convert {\n",
              "      background-color: #E8F0FE;\n",
              "      border: none;\n",
              "      border-radius: 50%;\n",
              "      cursor: pointer;\n",
              "      display: none;\n",
              "      fill: #1967D2;\n",
              "      height: 32px;\n",
              "      padding: 0 0 0 0;\n",
              "      width: 32px;\n",
              "    }\n",
              "\n",
              "    .colab-df-convert:hover {\n",
              "      background-color: #E2EBFA;\n",
              "      box-shadow: 0px 1px 2px rgba(60, 64, 67, 0.3), 0px 1px 3px 1px rgba(60, 64, 67, 0.15);\n",
              "      fill: #174EA6;\n",
              "    }\n",
              "\n",
              "    .colab-df-buttons div {\n",
              "      margin-bottom: 4px;\n",
              "    }\n",
              "\n",
              "    [theme=dark] .colab-df-convert {\n",
              "      background-color: #3B4455;\n",
              "      fill: #D2E3FC;\n",
              "    }\n",
              "\n",
              "    [theme=dark] .colab-df-convert:hover {\n",
              "      background-color: #434B5C;\n",
              "      box-shadow: 0px 1px 3px 1px rgba(0, 0, 0, 0.15);\n",
              "      filter: drop-shadow(0px 1px 2px rgba(0, 0, 0, 0.3));\n",
              "      fill: #FFFFFF;\n",
              "    }\n",
              "  </style>\n",
              "\n",
              "    <script>\n",
              "      const buttonEl =\n",
              "        document.querySelector('#df-b1ce7c86-0417-4233-8f1b-dc82e702a37b button.colab-df-convert');\n",
              "      buttonEl.style.display =\n",
              "        google.colab.kernel.accessAllowed ? 'block' : 'none';\n",
              "\n",
              "      async function convertToInteractive(key) {\n",
              "        const element = document.querySelector('#df-b1ce7c86-0417-4233-8f1b-dc82e702a37b');\n",
              "        const dataTable =\n",
              "          await google.colab.kernel.invokeFunction('convertToInteractive',\n",
              "                                                    [key], {});\n",
              "        if (!dataTable) return;\n",
              "\n",
              "        const docLinkHtml = 'Like what you see? Visit the ' +\n",
              "          '<a target=\"_blank\" href=https://colab.research.google.com/notebooks/data_table.ipynb>data table notebook</a>'\n",
              "          + ' to learn more about interactive tables.';\n",
              "        element.innerHTML = '';\n",
              "        dataTable['output_type'] = 'display_data';\n",
              "        await google.colab.output.renderOutput(dataTable, element);\n",
              "        const docLink = document.createElement('div');\n",
              "        docLink.innerHTML = docLinkHtml;\n",
              "        element.appendChild(docLink);\n",
              "      }\n",
              "    </script>\n",
              "  </div>\n",
              "\n",
              "\n",
              "<div id=\"df-4297502e-40ff-459e-ba30-b0ce194e8959\">\n",
              "  <button class=\"colab-df-quickchart\" onclick=\"quickchart('df-4297502e-40ff-459e-ba30-b0ce194e8959')\"\n",
              "            title=\"Suggest charts\"\n",
              "            style=\"display:none;\">\n",
              "\n",
              "<svg xmlns=\"http://www.w3.org/2000/svg\" height=\"24px\"viewBox=\"0 0 24 24\"\n",
              "     width=\"24px\">\n",
              "    <g>\n",
              "        <path d=\"M19 3H5c-1.1 0-2 .9-2 2v14c0 1.1.9 2 2 2h14c1.1 0 2-.9 2-2V5c0-1.1-.9-2-2-2zM9 17H7v-7h2v7zm4 0h-2V7h2v10zm4 0h-2v-4h2v4z\"/>\n",
              "    </g>\n",
              "</svg>\n",
              "  </button>\n",
              "\n",
              "<style>\n",
              "  .colab-df-quickchart {\n",
              "      --bg-color: #E8F0FE;\n",
              "      --fill-color: #1967D2;\n",
              "      --hover-bg-color: #E2EBFA;\n",
              "      --hover-fill-color: #174EA6;\n",
              "      --disabled-fill-color: #AAA;\n",
              "      --disabled-bg-color: #DDD;\n",
              "  }\n",
              "\n",
              "  [theme=dark] .colab-df-quickchart {\n",
              "      --bg-color: #3B4455;\n",
              "      --fill-color: #D2E3FC;\n",
              "      --hover-bg-color: #434B5C;\n",
              "      --hover-fill-color: #FFFFFF;\n",
              "      --disabled-bg-color: #3B4455;\n",
              "      --disabled-fill-color: #666;\n",
              "  }\n",
              "\n",
              "  .colab-df-quickchart {\n",
              "    background-color: var(--bg-color);\n",
              "    border: none;\n",
              "    border-radius: 50%;\n",
              "    cursor: pointer;\n",
              "    display: none;\n",
              "    fill: var(--fill-color);\n",
              "    height: 32px;\n",
              "    padding: 0;\n",
              "    width: 32px;\n",
              "  }\n",
              "\n",
              "  .colab-df-quickchart:hover {\n",
              "    background-color: var(--hover-bg-color);\n",
              "    box-shadow: 0 1px 2px rgba(60, 64, 67, 0.3), 0 1px 3px 1px rgba(60, 64, 67, 0.15);\n",
              "    fill: var(--button-hover-fill-color);\n",
              "  }\n",
              "\n",
              "  .colab-df-quickchart-complete:disabled,\n",
              "  .colab-df-quickchart-complete:disabled:hover {\n",
              "    background-color: var(--disabled-bg-color);\n",
              "    fill: var(--disabled-fill-color);\n",
              "    box-shadow: none;\n",
              "  }\n",
              "\n",
              "  .colab-df-spinner {\n",
              "    border: 2px solid var(--fill-color);\n",
              "    border-color: transparent;\n",
              "    border-bottom-color: var(--fill-color);\n",
              "    animation:\n",
              "      spin 1s steps(1) infinite;\n",
              "  }\n",
              "\n",
              "  @keyframes spin {\n",
              "    0% {\n",
              "      border-color: transparent;\n",
              "      border-bottom-color: var(--fill-color);\n",
              "      border-left-color: var(--fill-color);\n",
              "    }\n",
              "    20% {\n",
              "      border-color: transparent;\n",
              "      border-left-color: var(--fill-color);\n",
              "      border-top-color: var(--fill-color);\n",
              "    }\n",
              "    30% {\n",
              "      border-color: transparent;\n",
              "      border-left-color: var(--fill-color);\n",
              "      border-top-color: var(--fill-color);\n",
              "      border-right-color: var(--fill-color);\n",
              "    }\n",
              "    40% {\n",
              "      border-color: transparent;\n",
              "      border-right-color: var(--fill-color);\n",
              "      border-top-color: var(--fill-color);\n",
              "    }\n",
              "    60% {\n",
              "      border-color: transparent;\n",
              "      border-right-color: var(--fill-color);\n",
              "    }\n",
              "    80% {\n",
              "      border-color: transparent;\n",
              "      border-right-color: var(--fill-color);\n",
              "      border-bottom-color: var(--fill-color);\n",
              "    }\n",
              "    90% {\n",
              "      border-color: transparent;\n",
              "      border-bottom-color: var(--fill-color);\n",
              "    }\n",
              "  }\n",
              "</style>\n",
              "\n",
              "  <script>\n",
              "    async function quickchart(key) {\n",
              "      const quickchartButtonEl =\n",
              "        document.querySelector('#' + key + ' button');\n",
              "      quickchartButtonEl.disabled = true;  // To prevent multiple clicks.\n",
              "      quickchartButtonEl.classList.add('colab-df-spinner');\n",
              "      try {\n",
              "        const charts = await google.colab.kernel.invokeFunction(\n",
              "            'suggestCharts', [key], {});\n",
              "      } catch (error) {\n",
              "        console.error('Error during call to suggestCharts:', error);\n",
              "      }\n",
              "      quickchartButtonEl.classList.remove('colab-df-spinner');\n",
              "      quickchartButtonEl.classList.add('colab-df-quickchart-complete');\n",
              "    }\n",
              "    (() => {\n",
              "      let quickchartButtonEl =\n",
              "        document.querySelector('#df-4297502e-40ff-459e-ba30-b0ce194e8959 button');\n",
              "      quickchartButtonEl.style.display =\n",
              "        google.colab.kernel.accessAllowed ? 'block' : 'none';\n",
              "    })();\n",
              "  </script>\n",
              "</div>\n",
              "\n",
              "    </div>\n",
              "  </div>\n"
            ],
            "application/vnd.google.colaboratory.intrinsic+json": {
              "type": "dataframe",
              "summary": "{\n  \"name\": \"dataset[['idtiers', 'idagence']]\",\n  \"rows\": 5,\n  \"fields\": [\n    {\n      \"column\": \"idtiers\",\n      \"properties\": {\n        \"dtype\": \"number\",\n        \"std\": 96133,\n        \"min\": 3765,\n        \"max\": 227883,\n        \"num_unique_values\": 4,\n        \"samples\": [\n          3765,\n          145098,\n          227883\n        ],\n        \"semantic_type\": \"\",\n        \"description\": \"\"\n      }\n    },\n    {\n      \"column\": \"idagence\",\n      \"properties\": {\n        \"dtype\": \"number\",\n        \"std\": 71634,\n        \"min\": 12089,\n        \"max\": 178817,\n        \"num_unique_values\": 4,\n        \"samples\": [\n          12089,\n          97567,\n          178817\n        ],\n        \"semantic_type\": \"\",\n        \"description\": \"\"\n      }\n    }\n  ]\n}"
            }
          },
          "metadata": {},
          "execution_count": 23
        }
      ],
      "source": [
        "# Il est possible que idtiers et idagence comportent la même information retranscrite de manière différente.\n",
        "dataset[['idtiers', 'idagence']].head()"
      ]
    },
    {
      "cell_type": "markdown",
      "metadata": {
        "id": "hec0YNnKmd-a"
      },
      "source": [
        "Vérifions si les fréquences des modalités sont identiques pour les deux colonnes"
      ]
    },
    {
      "cell_type": "code",
      "execution_count": null,
      "metadata": {
        "id": "-s4NRdH4md-a",
        "outputId": "117ed6e6-0c4c-47ad-ae57-f98ec3d23d00",
        "colab": {
          "base_uri": "https://localhost:8080/"
        }
      },
      "outputs": [
        {
          "output_type": "execute_result",
          "data": {
            "text/plain": [
              "idtiers\n",
              "178377    67\n",
              "221404    34\n",
              "169816    28\n",
              "335728    27\n",
              "12038     25\n",
              "          ..\n",
              "82457      1\n",
              "60250      1\n",
              "268860     1\n",
              "171835     1\n",
              "324713     1\n",
              "Name: count, Length: 1412, dtype: int64"
            ]
          },
          "metadata": {},
          "execution_count": 24
        }
      ],
      "source": [
        "dataset['idtiers'].value_counts()"
      ]
    },
    {
      "cell_type": "code",
      "execution_count": null,
      "metadata": {
        "id": "hIFR1L7ymd-a",
        "outputId": "ca3c5d14-d5a4-4cba-b218-f7ccf6664500",
        "colab": {
          "base_uri": "https://localhost:8080/"
        }
      },
      "outputs": [
        {
          "output_type": "execute_result",
          "data": {
            "text/plain": [
              "idagence\n",
              "119630    67\n",
              "252492    34\n",
              "113840    28\n",
              "310057    27\n",
              "38825     25\n",
              "          ..\n",
              "68311      1\n",
              "50140      1\n",
              "238353     1\n",
              "115806     1\n",
              "282901     1\n",
              "Name: count, Length: 1412, dtype: int64"
            ]
          },
          "metadata": {},
          "execution_count": 25
        }
      ],
      "source": [
        "dataset['idagence'].value_counts()"
      ]
    },
    {
      "cell_type": "code",
      "execution_count": null,
      "metadata": {
        "id": "9YHBdlKNmd-a",
        "outputId": "5a3a2ce2-5e85-4c32-f54c-69339e30a89e",
        "colab": {
          "base_uri": "https://localhost:8080/"
        }
      },
      "outputs": [
        {
          "output_type": "execute_result",
          "data": {
            "text/plain": [
              "True"
            ]
          },
          "metadata": {},
          "execution_count": 26
        }
      ],
      "source": [
        "# Les variables sont bien identiques !\n",
        "idtiers = dataset['idtiers'].value_counts().reset_index(drop = True)\n",
        "idagence = dataset['idagence'].value_counts().reset_index(drop = True)\n",
        "\n",
        "idtiers.equals(idagence)"
      ]
    },
    {
      "cell_type": "markdown",
      "source": [
        "Nous allons maintnant faire le bilan des variables à supprimer.\n",
        "\n",
        "* Les variables `si_sdbain`, `si_sdEau`, `etage`, `idtypechauffage`, `idtypecommerce` ne comportent que des valeurs nulles.\n",
        "* Les variables `idtiers` et `idagence` renvoient vers la même information. Par ailleurs, elles comportent beaucoup de trop de modalités par rapport au nombre d'oberservations.\n",
        "* Les variables `cp`, `codepostal` sont identiques et contiennent à peu près la même information que `codeinsee`. Cette information est déjà présente dans la viable `ville`."
      ],
      "metadata": {
        "id": "D20R4_BxAhxe"
      }
    },
    {
      "cell_type": "code",
      "execution_count": null,
      "metadata": {
        "id": "O24aG_U4md-b"
      },
      "outputs": [],
      "source": [
        "# Bilan des variables à supprimer\n",
        "to_remove = [\n",
        "    'si_sdbain', 'si_sdEau', 'etage',\n",
        "    'idtypechauffage', 'idtypecommerce', 'codepostal',\n",
        "    'number', 'idtiers', 'cp', 'codeinsee', 'idannonce', 'idagence']\n",
        "\n"
      ]
    },
    {
      "cell_type": "code",
      "source": [
        "# Enlever les colonnes dans to_remove\n",
        "\n",
        "dataset.drop(to_remove, axis = 1, inplace = True)\n",
        "dataset.shape"
      ],
      "metadata": {
        "colab": {
          "base_uri": "https://localhost:8080/"
        },
        "id": "dVNEM5UMC2h1",
        "outputId": "4053f239-829d-4b19-a8b2-52d03d106462"
      },
      "execution_count": null,
      "outputs": [
        {
          "output_type": "execute_result",
          "data": {
            "text/plain": [
              "(3833, 12)"
            ]
          },
          "metadata": {},
          "execution_count": 28
        }
      ]
    },
    {
      "cell_type": "markdown",
      "metadata": {
        "id": "T8Xp3rtwmd-b"
      },
      "source": [
        "Il est également nécessaire de distinguer entre les variables quantitatives et les variables catégorielles, qui seront analysées de manières différentes."
      ]
    },
    {
      "cell_type": "code",
      "execution_count": null,
      "metadata": {
        "id": "J0KA-0Ebmd-b"
      },
      "outputs": [],
      "source": [
        "categorical = [\n",
        "    'si_balcon', 'typedebien', 'idtypepublicationsourcecouplage',\n",
        "    'naturebien','idtypecuisine', 'ville'\n",
        "]\n",
        "\n",
        "numerical = [\n",
        "    'nb_chambres', 'nb_pieces', 'nb_photos', 'surface', 'position'\n",
        "]"
      ]
    },
    {
      "cell_type": "markdown",
      "metadata": {
        "id": "Aq-svoOBmd-b"
      },
      "source": [
        "## Analyse descriptive des variables quantitatives\n",
        "\n",
        "Dans ce qui suit, nous allons analyser les distributions des variables ainsi que les corrélations entre les différentes variables explicatives abvec la variable `prix`. Nous allons utiliser ici les deux packages de visualisation en Python `matplotlib` et `seaborn`."
      ]
    },
    {
      "cell_type": "code",
      "source": [
        "import matplotlib.pyplot as plt\n",
        "import seaborn as sns"
      ],
      "metadata": {
        "id": "ELNUam63Fwqi"
      },
      "execution_count": null,
      "outputs": []
    },
    {
      "cell_type": "markdown",
      "metadata": {
        "id": "F18gcaHVmd-c"
      },
      "source": [
        "Commençons d'abord par regarder la distribution de la variable d'intérêt `prix`.\n"
      ]
    },
    {
      "cell_type": "code",
      "execution_count": null,
      "metadata": {
        "id": "5QRg8zCxmd-c",
        "outputId": "b7759ca9-7e2d-4e00-e62e-6edca6d87dcb",
        "colab": {
          "base_uri": "https://localhost:8080/",
          "height": 482
        }
      },
      "outputs": [
        {
          "output_type": "execute_result",
          "data": {
            "text/plain": [
              "<Axes: xlabel='prix', ylabel='Density'>"
            ]
          },
          "metadata": {},
          "execution_count": 31
        },
        {
          "output_type": "display_data",
          "data": {
            "text/plain": [
              "<Figure size 640x480 with 1 Axes>"
            ],
            "image/png": "[encoded data removed]"
          },
          "metadata": {}
        }
      ],
      "source": [
        "# densité de la variable prix sous forme de disribution\n",
        "\n",
        "sns.kdeplot(data = dataset, x = 'prix', fill=True)"
      ]
    },
    {
      "cell_type": "markdown",
      "metadata": {
        "id": "3cFrOFf_md-d"
      },
      "source": [
        "Regardons maintenant les distributions des différentes variables numériques."
      ]
    },
    {
      "cell_type": "code",
      "execution_count": null,
      "metadata": {
        "id": "bzYuc2mpmd-d",
        "outputId": "230bb25f-9528-402a-dd5e-9c6d5b6d11e8",
        "colab": {
          "base_uri": "https://localhost:8080/",
          "height": 233
        }
      },
      "outputs": [
        {
          "output_type": "display_data",
          "data": {
            "text/plain": [
              "<Figure size 1800x300 with 5 Axes>"
            ],
            "image/png": "[encoded data removed]"
          },
          "metadata": {}
        }
      ],
      "source": [
        "plt.rcParams[\"figure.figsize\"]\n",
        "\n",
        "fig, axs = plt.subplots(1,5, figsize=(18,3))\n",
        "for i, feature in enumerate(numerical):\n",
        "    sns.histplot(dataset[feature], ax = axs[i])\n",
        "plt.show()"
      ]
    },
    {
      "cell_type": "markdown",
      "source": [
        "Nous allons étudier maintenant les corrélation entre les variables numériques et la variable d'intérêt `prix`."
      ],
      "metadata": {
        "id": "bCFRgLwPJOrR"
      }
    },
    {
      "cell_type": "code",
      "execution_count": null,
      "metadata": {
        "id": "TcdKLcOjmd-d",
        "outputId": "d9127a1e-d946-4e95-9321-bba9b97b6d14",
        "colab": {
          "base_uri": "https://localhost:8080/",
          "height": 246
        }
      },
      "outputs": [
        {
          "output_type": "display_data",
          "data": {
            "text/plain": [
              "<Figure size 1800x300 with 5 Axes>"
            ],
            "image/png": "[encoded data removed]"
          },
          "metadata": {}
        }
      ],
      "source": [
        "fig, axs = plt.subplots(1,5, figsize=(18,3))\n",
        "for i, feature in enumerate(numerical):\n",
        "    sns.scatterplot(x = dataset[feature], y = dataset['prix'], ax = axs[i])\n",
        "plt.show()"
      ]
    },
    {
      "cell_type": "code",
      "source": [
        "fig, ax = plt.subplots(figsize=(10, 6))\n",
        "sns.boxplot(y=dataset['prix'], x=dataset['position'], hue=dataset['position'], ax=ax, palette='Set1', legend=False)\n",
        "ax.tick_params(axis='x', rotation=90)\n",
        "plt.show()"
      ],
      "metadata": {
        "colab": {
          "base_uri": "https://localhost:8080/",
          "height": 561
        },
        "id": "xd3zreaiTY5m",
        "outputId": "2d772c1d-3514-45f6-9eeb-9898db59a7f6"
      },
      "execution_count": null,
      "outputs": [
        {
          "output_type": "display_data",
          "data": {
            "text/plain": [
              "<Figure size 1000x600 with 1 Axes>"
            ],
            "image/png": "[encoded data removed]"
          },
          "metadata": {}
        }
      ]
    },
    {
      "cell_type": "code",
      "source": [
        "# Tracer un corrélogramme des variables numériques\n",
        "sns.heatmap(dataset[numerical].corr())"
      ],
      "metadata": {
        "colab": {
          "base_uri": "https://localhost:8080/",
          "height": 531
        },
        "id": "5W4NyJPdY_P2",
        "outputId": "bdc0b7bd-e8dd-4959-c6e0-dbc79f0ac67b"
      },
      "execution_count": null,
      "outputs": [
        {
          "output_type": "execute_result",
          "data": {
            "text/plain": [
              "<Axes: >"
            ]
          },
          "metadata": {},
          "execution_count": 35
        },
        {
          "output_type": "display_data",
          "data": {
            "text/plain": [
              "<Figure size 640x480 with 2 Axes>"
            ],
            "image/png": "[encoded data removed]"
          },
          "metadata": {}
        }
      ]
    },
    {
      "cell_type": "markdown",
      "source": [
        "## Variables catégorielles\n",
        "\n",
        "On peut commencer pas visualiser les variables qui ont un faible nombre de modalités en fonction de la variable `prix`."
      ],
      "metadata": {
        "id": "cxNievVMKM4z"
      }
    },
    {
      "cell_type": "code",
      "execution_count": null,
      "metadata": {
        "id": "o-WzvfPymd-d",
        "outputId": "e06302d8-ff5a-4338-acf6-05238f739ab1",
        "colab": {
          "base_uri": "https://localhost:8080/",
          "height": 246
        }
      },
      "outputs": [
        {
          "output_type": "display_data",
          "data": {
            "text/plain": [
              "<Figure size 1800x300 with 4 Axes>"
            ],
            "image/png": "[encoded data removed]"
          },
          "metadata": {}
        }
      ],
      "source": [
        "categorical_sub = ['si_balcon', 'typedebien', 'idtypepublicationsourcecouplage', 'naturebien']\n",
        "fig, axs = plt.subplots(1, 4, figsize=(18,3))\n",
        "for i, feature in enumerate(categorical_sub):\n",
        "    sns.kdeplot(data = dataset, x=\"prix\", hue = feature, fill=True, ax = axs[i])\n",
        "\n",
        "plt.show()"
      ]
    },
    {
      "cell_type": "markdown",
      "source": [
        "Regardons maintenant les variables catégorielles ayant un nombre imortant de modalités. Commençons par la variable `ville`."
      ],
      "metadata": {
        "id": "x0aaHIfiLnOE"
      }
    },
    {
      "cell_type": "code",
      "execution_count": null,
      "metadata": {
        "id": "VBbPD-_Nmd-e",
        "outputId": "8d7bfca9-0ec2-4195-d445-847f3162716c",
        "colab": {
          "base_uri": "https://localhost:8080/"
        }
      },
      "outputs": [
        {
          "output_type": "execute_result",
          "data": {
            "text/plain": [
              "112"
            ]
          },
          "metadata": {},
          "execution_count": 37
        }
      ],
      "source": [
        "# Afficher le nombre de modalités de la variable ville\n",
        "dataset['ville'].nunique()"
      ]
    },
    {
      "cell_type": "code",
      "source": [
        "# Répartition des observations sur les modalités\n",
        "dataset['ville'].value_counts()"
      ],
      "metadata": {
        "colab": {
          "base_uri": "https://localhost:8080/"
        },
        "id": "RKhJq-mGMEjj",
        "outputId": "83ceef4c-f9f2-4edf-f293-d5b90b0efaec"
      },
      "execution_count": null,
      "outputs": [
        {
          "output_type": "execute_result",
          "data": {
            "text/plain": [
              "ville\n",
              "Paris 16ème                443\n",
              "Paris 18ème                308\n",
              "Paris 15ème                299\n",
              "Paris 17ème                294\n",
              "Paris 13ème                278\n",
              "                          ... \n",
              "Mennecy                      1\n",
              "Les Pavillons-sous-Bois      1\n",
              "Igny                         1\n",
              "Héricy                       1\n",
              "Clichy                       1\n",
              "Name: count, Length: 112, dtype: int64"
            ]
          },
          "metadata": {},
          "execution_count": 38
        }
      ]
    },
    {
      "cell_type": "code",
      "source": [
        "# Afficher la répartition des observations pour les modalités qui ne commencent pas par \"Paris\"\n",
        "dataset[~dataset['ville'].str.startswith('Paris')]['ville'].value_counts()"
      ],
      "metadata": {
        "colab": {
          "base_uri": "https://localhost:8080/"
        },
        "id": "ynad46GvNKKr",
        "outputId": "6214c97d-e506-4e84-d809-4ab2f092fdb7"
      },
      "execution_count": null,
      "outputs": [
        {
          "output_type": "execute_result",
          "data": {
            "text/plain": [
              "ville\n",
              "Corbeil Essonnes           5\n",
              "Saint Germain en Laye      3\n",
              "Le Pecq                    3\n",
              "Villepinte                 3\n",
              "Suresnes                   3\n",
              "                          ..\n",
              "Vert le Petit              1\n",
              "Mennecy                    1\n",
              "Les Pavillons-sous-Bois    1\n",
              "Igny                       1\n",
              "Clichy                     1\n",
              "Name: count, Length: 92, dtype: int64"
            ]
          },
          "metadata": {},
          "execution_count": 39
        }
      ]
    },
    {
      "cell_type": "markdown",
      "source": [
        "Nous voyons ici que les villes situées en dehors de Paris sont très faiblement représentées dans le jeu de données. Nous allons les regrouper dans une seule modalité \"banlieue\"."
      ],
      "metadata": {
        "id": "9V2SZEeyM3K_"
      }
    },
    {
      "cell_type": "code",
      "execution_count": null,
      "metadata": {
        "id": "TKtyBzYpmd-e",
        "colab": {
          "base_uri": "https://localhost:8080/"
        },
        "outputId": "1f9e3233-4af6-4d1c-bd0d-79df68d4828e"
      },
      "outputs": [
        {
          "output_type": "execute_result",
          "data": {
            "text/plain": [
              "ville\n",
              "Paris 16ème    443\n",
              "Paris 18ème    308\n",
              "Paris 15ème    299\n",
              "Paris 17ème    294\n",
              "Paris 13ème    278\n",
              "Paris 19ème    212\n",
              "Paris 11ème    195\n",
              "Paris 14ème    194\n",
              "Paris 20ème    194\n",
              "Paris 10ème    167\n",
              "Paris 6ème     164\n",
              "Paris 12ème    162\n",
              "Paris 7ème     144\n",
              "Paris 8ème     129\n",
              "Banlieue       120\n",
              "Paris 5ème     115\n",
              "Paris 4ème     110\n",
              "Paris 9ème     100\n",
              "Paris 3ème      96\n",
              "Paris 2ème      65\n",
              "Paris 1er       44\n",
              "Name: count, dtype: int64"
            ]
          },
          "metadata": {},
          "execution_count": 40
        }
      ],
      "source": [
        "# Regrouper les observations dans une variable \"banlieue\"\n",
        "dataset['ville'] = dataset['ville'].apply(lambda x: x if x.startswith('Paris') else 'Banlieue')\n",
        "dataset['ville'].value_counts()"
      ]
    },
    {
      "cell_type": "code",
      "execution_count": null,
      "metadata": {
        "id": "Jepc7TOGmd-e",
        "outputId": "a75ad689-df8c-4070-fbdc-5c72874a35b3",
        "colab": {
          "base_uri": "https://localhost:8080/",
          "height": 629
        }
      },
      "outputs": [
        {
          "output_type": "display_data",
          "data": {
            "text/plain": [
              "<Figure size 1000x600 with 1 Axes>"
            ],
            "image/png": "[encoded data removed]"
          },
          "metadata": {}
        }
      ],
      "source": [
        "fig, ax = plt.subplots(figsize=(10, 6))\n",
        "sns.boxplot(y=dataset['prix'], x=dataset['ville'], hue=dataset['ville'], ax=ax, palette='Set1', legend=False)\n",
        "ax.tick_params(axis='x', rotation=90)\n",
        "plt.show()"
      ]
    },
    {
      "cell_type": "code",
      "execution_count": null,
      "metadata": {
        "id": "c2lWN4Himd-f",
        "outputId": "127a1dde-5547-4477-9208-b65b42ef39dc",
        "colab": {
          "base_uri": "https://localhost:8080/",
          "height": 681
        }
      },
      "outputs": [
        {
          "output_type": "display_data",
          "data": {
            "text/plain": [
              "<Figure size 1000x600 with 1 Axes>"
            ],
            "image/png": "[encoded data removed]"
          },
          "metadata": {}
        }
      ],
      "source": [
        "fig, ax = plt.subplots(figsize=(10, 6))\n",
        "sns.boxplot(y=dataset['prix'], x=dataset['idtypecuisine'], hue=dataset['idtypecuisine'], ax=ax, palette='Set1', legend=False)\n",
        "ax.tick_params(axis='x', rotation=90)\n",
        "plt.show()"
      ]
    },
    {
      "cell_type": "markdown",
      "metadata": {
        "id": "q-sx2SkGmd-k"
      },
      "source": [
        "# Approche explicative : étude des déterminants du prix\n",
        "\n",
        "On va maintenant essayer de comprendre quelles sont les variables les plus déterminantes qui exliquent le prix d'un bien immobilier. Pour ce faire, nous allons utiliser un modèle de régression linéaire. Mais il nous reste encore une étape : transformer les variables catégorielles en variables numériques."
      ]
    },
    {
      "cell_type": "code",
      "source": [
        "dataset.columns"
      ],
      "metadata": {
        "colab": {
          "base_uri": "https://localhost:8080/"
        },
        "id": "lXx5Ol8FUxAz",
        "outputId": "59ec95fa-a364-4e42-9016-7a12e28a1384"
      },
      "execution_count": null,
      "outputs": [
        {
          "output_type": "execute_result",
          "data": {
            "text/plain": [
              "Index(['idtypecuisine', 'idtypepublicationsourcecouplage', 'naturebien',\n",
              "       'nb_chambres', 'nb_photos', 'nb_pieces', 'position', 'prix',\n",
              "       'si_balcon', 'surface', 'typedebien', 'ville'],\n",
              "      dtype='object')"
            ]
          },
          "metadata": {},
          "execution_count": 43
        }
      ]
    },
    {
      "cell_type": "code",
      "source": [
        "# Transformer les variables catégorielles en variables numériques avec du one-hot encoding il ne reste que des variables numérique\n",
        "categorical_sub = [\n",
        "     'typedebien', 'idtypepublicationsourcecouplage',\n",
        "    'naturebien','idtypecuisine', 'ville'\n",
        "]\n",
        "\n",
        "\n",
        "df = pd.get_dummies(dataset, columns = categorical_sub, drop_first=True).astype(int)\n",
        "df.head()"
      ],
      "metadata": {
        "colab": {
          "base_uri": "https://localhost:8080/",
          "height": 270
        },
        "id": "fnGYz1R6UjY2",
        "outputId": "be7eaba0-d245-4625-dc43-fe4a3742f030"
      },
      "execution_count": null,
      "outputs": [
        {
          "output_type": "execute_result",
          "data": {
            "text/plain": [
              "   nb_chambres  nb_photos  nb_pieces  position    prix  si_balcon  surface  \\\n",
              "0            2         13          3        11   59000          1       69   \n",
              "1            2          7          1         8   77500          0        8   \n",
              "2            1          8          2         6   94000          0       37   \n",
              "3            2          4          1        16   96000          0       10   \n",
              "4            1          5          2         4  100000          0       14   \n",
              "\n",
              "   typedebien_Loft/Atelier/Surface  idtypepublicationsourcecouplage_SL  \\\n",
              "0                                0                                   1   \n",
              "1                                0                                   1   \n",
              "2                                0                                   1   \n",
              "3                                0                                   1   \n",
              "4                                0                                   1   \n",
              "\n",
              "   idtypepublicationsourcecouplage_SL9  ...  ville_Paris 1er  \\\n",
              "0                                    0  ...                0   \n",
              "1                                    0  ...                0   \n",
              "2                                    0  ...                0   \n",
              "3                                    0  ...                0   \n",
              "4                                    0  ...                0   \n",
              "\n",
              "   ville_Paris 20ème  ville_Paris 2ème  ville_Paris 3ème  ville_Paris 4ème  \\\n",
              "0                  0                 0                 0                 0   \n",
              "1                  0                 0                 0                 0   \n",
              "2                  0                 0                 0                 0   \n",
              "3                  0                 0                 0                 0   \n",
              "4                  0                 0                 0                 0   \n",
              "\n",
              "   ville_Paris 5ème  ville_Paris 6ème  ville_Paris 7ème  ville_Paris 8ème  \\\n",
              "0                 0                 0                 0                 0   \n",
              "1                 0                 0                 0                 0   \n",
              "2                 0                 0                 0                 0   \n",
              "3                 0                 0                 0                 0   \n",
              "4                 0                 0                 0                 0   \n",
              "\n",
              "   ville_Paris 9ème  \n",
              "0                 0  \n",
              "1                 0  \n",
              "2                 0  \n",
              "3                 0  \n",
              "4                 0  \n",
              "\n",
              "[5 rows x 41 columns]"
            ],
            "text/html": [
              "\n",
              "  <div id=\"df-3b8cca5f-887e-45b8-bcbc-bc1c4faa4565\" class=\"colab-df-container\">\n",
              "    <div>\n",
              "<style scoped>\n",
              "    .dataframe tbody tr th:only-of-type {\n",
              "        vertical-align: middle;\n",
              "    }\n",
              "\n",
              "    .dataframe tbody tr th {\n",
              "        vertical-align: top;\n",
              "    }\n",
              "\n",
              "    .dataframe thead th {\n",
              "        text-align: right;\n",
              "    }\n",
              "</style>\n",
              "<table border=\"1\" class=\"dataframe\">\n",
              "  <thead>\n",
              "    <tr style=\"text-align: right;\">\n",
              "      <th></th>\n",
              "      <th>nb_chambres</th>\n",
              "      <th>nb_photos</th>\n",
              "      <th>nb_pieces</th>\n",
              "      <th>position</th>\n",
              "      <th>prix</th>\n",
              "      <th>si_balcon</th>\n",
              "      <th>surface</th>\n",
              "      <th>typedebien_Loft/Atelier/Surface</th>\n",
              "      <th>idtypepublicationsourcecouplage_SL</th>\n",
              "      <th>idtypepublicationsourcecouplage_SL9</th>\n",
              "      <th>...</th>\n",
              "      <th>ville_Paris 1er</th>\n",
              "      <th>ville_Paris 20ème</th>\n",
              "      <th>ville_Paris 2ème</th>\n",
              "      <th>ville_Paris 3ème</th>\n",
              "      <th>ville_Paris 4ème</th>\n",
              "      <th>ville_Paris 5ème</th>\n",
              "      <th>ville_Paris 6ème</th>\n",
              "      <th>ville_Paris 7ème</th>\n",
              "      <th>ville_Paris 8ème</th>\n",
              "      <th>ville_Paris 9ème</th>\n",
              "    </tr>\n",
              "  </thead>\n",
              "  <tbody>\n",
              "    <tr>\n",
              "      <th>0</th>\n",
              "      <td>2</td>\n",
              "      <td>13</td>\n",
              "      <td>3</td>\n",
              "      <td>11</td>\n",
              "      <td>59000</td>\n",
              "      <td>1</td>\n",
              "      <td>69</td>\n",
              "      <td>0</td>\n",
              "      <td>1</td>\n",
              "      <td>0</td>\n",
              "      <td>...</td>\n",
              "      <td>0</td>\n",
              "      <td>0</td>\n",
              "      <td>0</td>\n",
              "      <td>0</td>\n",
              "      <td>0</td>\n",
              "      <td>0</td>\n",
              "      <td>0</td>\n",
              "      <td>0</td>\n",
              "      <td>0</td>\n",
              "      <td>0</td>\n",
              "    </tr>\n",
              "    <tr>\n",
              "      <th>1</th>\n",
              "      <td>2</td>\n",
              "      <td>7</td>\n",
              "      <td>1</td>\n",
              "      <td>8</td>\n",
              "      <td>77500</td>\n",
              "      <td>0</td>\n",
              "      <td>8</td>\n",
              "      <td>0</td>\n",
              "      <td>1</td>\n",
              "      <td>0</td>\n",
              "      <td>...</td>\n",
              "      <td>0</td>\n",
              "      <td>0</td>\n",
              "      <td>0</td>\n",
              "      <td>0</td>\n",
              "      <td>0</td>\n",
              "      <td>0</td>\n",
              "      <td>0</td>\n",
              "      <td>0</td>\n",
              "      <td>0</td>\n",
              "      <td>0</td>\n",
              "    </tr>\n",
              "    <tr>\n",
              "      <th>2</th>\n",
              "      <td>1</td>\n",
              "      <td>8</td>\n",
              "      <td>2</td>\n",
              "      <td>6</td>\n",
              "      <td>94000</td>\n",
              "      <td>0</td>\n",
              "      <td>37</td>\n",
              "      <td>0</td>\n",
              "      <td>1</td>\n",
              "      <td>0</td>\n",
              "      <td>...</td>\n",
              "      <td>0</td>\n",
              "      <td>0</td>\n",
              "      <td>0</td>\n",
              "      <td>0</td>\n",
              "      <td>0</td>\n",
              "      <td>0</td>\n",
              "      <td>0</td>\n",
              "      <td>0</td>\n",
              "      <td>0</td>\n",
              "      <td>0</td>\n",
              "    </tr>\n",
              "    <tr>\n",
              "      <th>3</th>\n",
              "      <td>2</td>\n",
              "      <td>4</td>\n",
              "      <td>1</td>\n",
              "      <td>16</td>\n",
              "      <td>96000</td>\n",
              "      <td>0</td>\n",
              "      <td>10</td>\n",
              "      <td>0</td>\n",
              "      <td>1</td>\n",
              "      <td>0</td>\n",
              "      <td>...</td>\n",
              "      <td>0</td>\n",
              "      <td>0</td>\n",
              "      <td>0</td>\n",
              "      <td>0</td>\n",
              "      <td>0</td>\n",
              "      <td>0</td>\n",
              "      <td>0</td>\n",
              "      <td>0</td>\n",
              "      <td>0</td>\n",
              "      <td>0</td>\n",
              "    </tr>\n",
              "    <tr>\n",
              "      <th>4</th>\n",
              "      <td>1</td>\n",
              "      <td>5</td>\n",
              "      <td>2</td>\n",
              "      <td>4</td>\n",
              "      <td>100000</td>\n",
              "      <td>0</td>\n",
              "      <td>14</td>\n",
              "      <td>0</td>\n",
              "      <td>1</td>\n",
              "      <td>0</td>\n",
              "      <td>...</td>\n",
              "      <td>0</td>\n",
              "      <td>0</td>\n",
              "      <td>0</td>\n",
              "      <td>0</td>\n",
              "      <td>0</td>\n",
              "      <td>0</td>\n",
              "      <td>0</td>\n",
              "      <td>0</td>\n",
              "      <td>0</td>\n",
              "      <td>0</td>\n",
              "    </tr>\n",
              "  </tbody>\n",
              "</table>\n",
              "<p>5 rows × 41 columns</p>\n",
              "</div>\n",
              "    <div class=\"colab-df-buttons\">\n",
              "\n",
              "  <div class=\"colab-df-container\">\n",
              "    <button class=\"colab-df-convert\" onclick=\"convertToInteractive('df-3b8cca5f-887e-45b8-bcbc-bc1c4faa4565')\"\n",
              "            title=\"Convert this dataframe to an interactive table.\"\n",
              "            style=\"display:none;\">\n",
              "\n",
              "  <svg xmlns=\"http://www.w3.org/2000/svg\" height=\"24px\" viewBox=\"0 -960 960 960\">\n",
              "    <path d=\"M120-120v-720h720v720H120Zm60-500h600v-160H180v160Zm220 220h160v-160H400v160Zm0 220h160v-160H400v160ZM180-400h160v-160H180v160Zm440 0h160v-160H620v160ZM180-180h160v-160H180v160Zm440 0h160v-160H620v160Z\"/>\n",
              "  </svg>\n",
              "    </button>\n",
              "\n",
              "  <style>\n",
              "    .colab-df-container {\n",
              "      display:flex;\n",
              "      gap: 12px;\n",
              "    }\n",
              "\n",
              "    .colab-df-convert {\n",
              "      background-color: #E8F0FE;\n",
              "      border: none;\n",
              "      border-radius: 50%;\n",
              "      cursor: pointer;\n",
              "      display: none;\n",
              "      fill: #1967D2;\n",
              "      height: 32px;\n",
              "      padding: 0 0 0 0;\n",
              "      width: 32px;\n",
              "    }\n",
              "\n",
              "    .colab-df-convert:hover {\n",
              "      background-color: #E2EBFA;\n",
              "      box-shadow: 0px 1px 2px rgba(60, 64, 67, 0.3), 0px 1px 3px 1px rgba(60, 64, 67, 0.15);\n",
              "      fill: #174EA6;\n",
              "    }\n",
              "\n",
              "    .colab-df-buttons div {\n",
              "      margin-bottom: 4px;\n",
              "    }\n",
              "\n",
              "    [theme=dark] .colab-df-convert {\n",
              "      background-color: #3B4455;\n",
              "      fill: #D2E3FC;\n",
              "    }\n",
              "\n",
              "    [theme=dark] .colab-df-convert:hover {\n",
              "      background-color: #434B5C;\n",
              "      box-shadow: 0px 1px 3px 1px rgba(0, 0, 0, 0.15);\n",
              "      filter: drop-shadow(0px 1px 2px rgba(0, 0, 0, 0.3));\n",
              "      fill: #FFFFFF;\n",
              "    }\n",
              "  </style>\n",
              "\n",
              "    <script>\n",
              "      const buttonEl =\n",
              "        document.querySelector('#df-3b8cca5f-887e-45b8-bcbc-bc1c4faa4565 button.colab-df-convert');\n",
              "      buttonEl.style.display =\n",
              "        google.colab.kernel.accessAllowed ? 'block' : 'none';\n",
              "\n",
              "      async function convertToInteractive(key) {\n",
              "        const element = document.querySelector('#df-3b8cca5f-887e-45b8-bcbc-bc1c4faa4565');\n",
              "        const dataTable =\n",
              "          await google.colab.kernel.invokeFunction('convertToInteractive',\n",
              "                                                    [key], {});\n",
              "        if (!dataTable) return;\n",
              "\n",
              "        const docLinkHtml = 'Like what you see? Visit the ' +\n",
              "          '<a target=\"_blank\" href=https://colab.research.google.com/notebooks/data_table.ipynb>data table notebook</a>'\n",
              "          + ' to learn more about interactive tables.';\n",
              "        element.innerHTML = '';\n",
              "        dataTable['output_type'] = 'display_data';\n",
              "        await google.colab.output.renderOutput(dataTable, element);\n",
              "        const docLink = document.createElement('div');\n",
              "        docLink.innerHTML = docLinkHtml;\n",
              "        element.appendChild(docLink);\n",
              "      }\n",
              "    </script>\n",
              "  </div>\n",
              "\n",
              "\n",
              "<div id=\"df-aa2c3ebd-8f25-41c7-b9c7-fa4cf9972707\">\n",
              "  <button class=\"colab-df-quickchart\" onclick=\"quickchart('df-aa2c3ebd-8f25-41c7-b9c7-fa4cf9972707')\"\n",
              "            title=\"Suggest charts\"\n",
              "            style=\"display:none;\">\n",
              "\n",
              "<svg xmlns=\"http://www.w3.org/2000/svg\" height=\"24px\"viewBox=\"0 0 24 24\"\n",
              "     width=\"24px\">\n",
              "    <g>\n",
              "        <path d=\"M19 3H5c-1.1 0-2 .9-2 2v14c0 1.1.9 2 2 2h14c1.1 0 2-.9 2-2V5c0-1.1-.9-2-2-2zM9 17H7v-7h2v7zm4 0h-2V7h2v10zm4 0h-2v-4h2v4z\"/>\n",
              "    </g>\n",
              "</svg>\n",
              "  </button>\n",
              "\n",
              "<style>\n",
              "  .colab-df-quickchart {\n",
              "      --bg-color: #E8F0FE;\n",
              "      --fill-color: #1967D2;\n",
              "      --hover-bg-color: #E2EBFA;\n",
              "      --hover-fill-color: #174EA6;\n",
              "      --disabled-fill-color: #AAA;\n",
              "      --disabled-bg-color: #DDD;\n",
              "  }\n",
              "\n",
              "  [theme=dark] .colab-df-quickchart {\n",
              "      --bg-color: #3B4455;\n",
              "      --fill-color: #D2E3FC;\n",
              "      --hover-bg-color: #434B5C;\n",
              "      --hover-fill-color: #FFFFFF;\n",
              "      --disabled-bg-color: #3B4455;\n",
              "      --disabled-fill-color: #666;\n",
              "  }\n",
              "\n",
              "  .colab-df-quickchart {\n",
              "    background-color: var(--bg-color);\n",
              "    border: none;\n",
              "    border-radius: 50%;\n",
              "    cursor: pointer;\n",
              "    display: none;\n",
              "    fill: var(--fill-color);\n",
              "    height: 32px;\n",
              "    padding: 0;\n",
              "    width: 32px;\n",
              "  }\n",
              "\n",
              "  .colab-df-quickchart:hover {\n",
              "    background-color: var(--hover-bg-color);\n",
              "    box-shadow: 0 1px 2px rgba(60, 64, 67, 0.3), 0 1px 3px 1px rgba(60, 64, 67, 0.15);\n",
              "    fill: var(--button-hover-fill-color);\n",
              "  }\n",
              "\n",
              "  .colab-df-quickchart-complete:disabled,\n",
              "  .colab-df-quickchart-complete:disabled:hover {\n",
              "    background-color: var(--disabled-bg-color);\n",
              "    fill: var(--disabled-fill-color);\n",
              "    box-shadow: none;\n",
              "  }\n",
              "\n",
              "  .colab-df-spinner {\n",
              "    border: 2px solid var(--fill-color);\n",
              "    border-color: transparent;\n",
              "    border-bottom-color: var(--fill-color);\n",
              "    animation:\n",
              "      spin 1s steps(1) infinite;\n",
              "  }\n",
              "\n",
              "  @keyframes spin {\n",
              "    0% {\n",
              "      border-color: transparent;\n",
              "      border-bottom-color: var(--fill-color);\n",
              "      border-left-color: var(--fill-color);\n",
              "    }\n",
              "    20% {\n",
              "      border-color: transparent;\n",
              "      border-left-color: var(--fill-color);\n",
              "      border-top-color: var(--fill-color);\n",
              "    }\n",
              "    30% {\n",
              "      border-color: transparent;\n",
              "      border-left-color: var(--fill-color);\n",
              "      border-top-color: var(--fill-color);\n",
              "      border-right-color: var(--fill-color);\n",
              "    }\n",
              "    40% {\n",
              "      border-color: transparent;\n",
              "      border-right-color: var(--fill-color);\n",
              "      border-top-color: var(--fill-color);\n",
              "    }\n",
              "    60% {\n",
              "      border-color: transparent;\n",
              "      border-right-color: var(--fill-color);\n",
              "    }\n",
              "    80% {\n",
              "      border-color: transparent;\n",
              "      border-right-color: var(--fill-color);\n",
              "      border-bottom-color: var(--fill-color);\n",
              "    }\n",
              "    90% {\n",
              "      border-color: transparent;\n",
              "      border-bottom-color: var(--fill-color);\n",
              "    }\n",
              "  }\n",
              "</style>\n",
              "\n",
              "  <script>\n",
              "    async function quickchart(key) {\n",
              "      const quickchartButtonEl =\n",
              "        document.querySelector('#' + key + ' button');\n",
              "      quickchartButtonEl.disabled = true;  // To prevent multiple clicks.\n",
              "      quickchartButtonEl.classList.add('colab-df-spinner');\n",
              "      try {\n",
              "        const charts = await google.colab.kernel.invokeFunction(\n",
              "            'suggestCharts', [key], {});\n",
              "      } catch (error) {\n",
              "        console.error('Error during call to suggestCharts:', error);\n",
              "      }\n",
              "      quickchartButtonEl.classList.remove('colab-df-spinner');\n",
              "      quickchartButtonEl.classList.add('colab-df-quickchart-complete');\n",
              "    }\n",
              "    (() => {\n",
              "      let quickchartButtonEl =\n",
              "        document.querySelector('#df-aa2c3ebd-8f25-41c7-b9c7-fa4cf9972707 button');\n",
              "      quickchartButtonEl.style.display =\n",
              "        google.colab.kernel.accessAllowed ? 'block' : 'none';\n",
              "    })();\n",
              "  </script>\n",
              "</div>\n",
              "\n",
              "    </div>\n",
              "  </div>\n"
            ],
            "application/vnd.google.colaboratory.intrinsic+json": {
              "type": "dataframe",
              "variable_name": "df"
            }
          },
          "metadata": {},
          "execution_count": 44
        }
      ]
    },
    {
      "cell_type": "code",
      "execution_count": null,
      "metadata": {
        "id": "743sI5dqmd-l"
      },
      "outputs": [],
      "source": [
        "from sklearn.preprocessing import StandardScaler"
      ]
    },
    {
      "cell_type": "code",
      "execution_count": null,
      "metadata": {
        "id": "XOkfmw8emd-m",
        "colab": {
          "base_uri": "https://localhost:8080/",
          "height": 270
        },
        "outputId": "7e29275b-85de-4622-a1a2-71c10c9c8dcb"
      },
      "outputs": [
        {
          "output_type": "execute_result",
          "data": {
            "text/plain": [
              "   nb_chambres  nb_photos  nb_pieces  position    prix  si_balcon   surface  \\\n",
              "0     0.168640   1.137028  -0.096391  0.247510   59000          1 -0.022054   \n",
              "1     0.168640  -0.456086  -1.898669 -0.273185   77500          0 -2.031644   \n",
              "2    -0.951635  -0.190567  -0.997530 -0.620315   94000          0 -1.076266   \n",
              "3     0.168640  -1.252642  -1.898669  1.115335   96000          0 -1.965756   \n",
              "4    -0.951635  -0.987124  -0.997530 -0.967445  100000          0 -1.833980   \n",
              "\n",
              "   typedebien_Loft/Atelier/Surface  idtypepublicationsourcecouplage_SL  \\\n",
              "0                                0                                   1   \n",
              "1                                0                                   1   \n",
              "2                                0                                   1   \n",
              "3                                0                                   1   \n",
              "4                                0                                   1   \n",
              "\n",
              "   idtypepublicationsourcecouplage_SL9  ...  ville_Paris 1er  \\\n",
              "0                                    0  ...                0   \n",
              "1                                    0  ...                0   \n",
              "2                                    0  ...                0   \n",
              "3                                    0  ...                0   \n",
              "4                                    0  ...                0   \n",
              "\n",
              "   ville_Paris 20ème  ville_Paris 2ème  ville_Paris 3ème  ville_Paris 4ème  \\\n",
              "0                  0                 0                 0                 0   \n",
              "1                  0                 0                 0                 0   \n",
              "2                  0                 0                 0                 0   \n",
              "3                  0                 0                 0                 0   \n",
              "4                  0                 0                 0                 0   \n",
              "\n",
              "   ville_Paris 5ème  ville_Paris 6ème  ville_Paris 7ème  ville_Paris 8ème  \\\n",
              "0                 0                 0                 0                 0   \n",
              "1                 0                 0                 0                 0   \n",
              "2                 0                 0                 0                 0   \n",
              "3                 0                 0                 0                 0   \n",
              "4                 0                 0                 0                 0   \n",
              "\n",
              "   ville_Paris 9ème  \n",
              "0                 0  \n",
              "1                 0  \n",
              "2                 0  \n",
              "3                 0  \n",
              "4                 0  \n",
              "\n",
              "[5 rows x 41 columns]"
            ],
            "text/html": [
              "\n",
              "  <div id=\"df-daf8cff7-4916-4ee0-920e-866141a1b56a\" class=\"colab-df-container\">\n",
              "    <div>\n",
              "<style scoped>\n",
              "    .dataframe tbody tr th:only-of-type {\n",
              "        vertical-align: middle;\n",
              "    }\n",
              "\n",
              "    .dataframe tbody tr th {\n",
              "        vertical-align: top;\n",
              "    }\n",
              "\n",
              "    .dataframe thead th {\n",
              "        text-align: right;\n",
              "    }\n",
              "</style>\n",
              "<table border=\"1\" class=\"dataframe\">\n",
              "  <thead>\n",
              "    <tr style=\"text-align: right;\">\n",
              "      <th></th>\n",
              "      <th>nb_chambres</th>\n",
              "      <th>nb_photos</th>\n",
              "      <th>nb_pieces</th>\n",
              "      <th>position</th>\n",
              "      <th>prix</th>\n",
              "      <th>si_balcon</th>\n",
              "      <th>surface</th>\n",
              "      <th>typedebien_Loft/Atelier/Surface</th>\n",
              "      <th>idtypepublicationsourcecouplage_SL</th>\n",
              "      <th>idtypepublicationsourcecouplage_SL9</th>\n",
              "      <th>...</th>\n",
              "      <th>ville_Paris 1er</th>\n",
              "      <th>ville_Paris 20ème</th>\n",
              "      <th>ville_Paris 2ème</th>\n",
              "      <th>ville_Paris 3ème</th>\n",
              "      <th>ville_Paris 4ème</th>\n",
              "      <th>ville_Paris 5ème</th>\n",
              "      <th>ville_Paris 6ème</th>\n",
              "      <th>ville_Paris 7ème</th>\n",
              "      <th>ville_Paris 8ème</th>\n",
              "      <th>ville_Paris 9ème</th>\n",
              "    </tr>\n",
              "  </thead>\n",
              "  <tbody>\n",
              "    <tr>\n",
              "      <th>0</th>\n",
              "      <td>0.168640</td>\n",
              "      <td>1.137028</td>\n",
              "      <td>-0.096391</td>\n",
              "      <td>0.247510</td>\n",
              "      <td>59000</td>\n",
              "      <td>1</td>\n",
              "      <td>-0.022054</td>\n",
              "      <td>0</td>\n",
              "      <td>1</td>\n",
              "      <td>0</td>\n",
              "      <td>...</td>\n",
              "      <td>0</td>\n",
              "      <td>0</td>\n",
              "      <td>0</td>\n",
              "      <td>0</td>\n",
              "      <td>0</td>\n",
              "      <td>0</td>\n",
              "      <td>0</td>\n",
              "      <td>0</td>\n",
              "      <td>0</td>\n",
              "      <td>0</td>\n",
              "    </tr>\n",
              "    <tr>\n",
              "      <th>1</th>\n",
              "      <td>0.168640</td>\n",
              "      <td>-0.456086</td>\n",
              "      <td>-1.898669</td>\n",
              "      <td>-0.273185</td>\n",
              "      <td>77500</td>\n",
              "      <td>0</td>\n",
              "      <td>-2.031644</td>\n",
              "      <td>0</td>\n",
              "      <td>1</td>\n",
              "      <td>0</td>\n",
              "      <td>...</td>\n",
              "      <td>0</td>\n",
              "      <td>0</td>\n",
              "      <td>0</td>\n",
              "      <td>0</td>\n",
              "      <td>0</td>\n",
              "      <td>0</td>\n",
              "      <td>0</td>\n",
              "      <td>0</td>\n",
              "      <td>0</td>\n",
              "      <td>0</td>\n",
              "    </tr>\n",
              "    <tr>\n",
              "      <th>2</th>\n",
              "      <td>-0.951635</td>\n",
              "      <td>-0.190567</td>\n",
              "      <td>-0.997530</td>\n",
              "      <td>-0.620315</td>\n",
              "      <td>94000</td>\n",
              "      <td>0</td>\n",
              "      <td>-1.076266</td>\n",
              "      <td>0</td>\n",
              "      <td>1</td>\n",
              "      <td>0</td>\n",
              "      <td>...</td>\n",
              "      <td>0</td>\n",
              "      <td>0</td>\n",
              "      <td>0</td>\n",
              "      <td>0</td>\n",
              "      <td>0</td>\n",
              "      <td>0</td>\n",
              "      <td>0</td>\n",
              "      <td>0</td>\n",
              "      <td>0</td>\n",
              "      <td>0</td>\n",
              "    </tr>\n",
              "    <tr>\n",
              "      <th>3</th>\n",
              "      <td>0.168640</td>\n",
              "      <td>-1.252642</td>\n",
              "      <td>-1.898669</td>\n",
              "      <td>1.115335</td>\n",
              "      <td>96000</td>\n",
              "      <td>0</td>\n",
              "      <td>-1.965756</td>\n",
              "      <td>0</td>\n",
              "      <td>1</td>\n",
              "      <td>0</td>\n",
              "      <td>...</td>\n",
              "      <td>0</td>\n",
              "      <td>0</td>\n",
              "      <td>0</td>\n",
              "      <td>0</td>\n",
              "      <td>0</td>\n",
              "      <td>0</td>\n",
              "      <td>0</td>\n",
              "      <td>0</td>\n",
              "      <td>0</td>\n",
              "      <td>0</td>\n",
              "    </tr>\n",
              "    <tr>\n",
              "      <th>4</th>\n",
              "      <td>-0.951635</td>\n",
              "      <td>-0.987124</td>\n",
              "      <td>-0.997530</td>\n",
              "      <td>-0.967445</td>\n",
              "      <td>100000</td>\n",
              "      <td>0</td>\n",
              "      <td>-1.833980</td>\n",
              "      <td>0</td>\n",
              "      <td>1</td>\n",
              "      <td>0</td>\n",
              "      <td>...</td>\n",
              "      <td>0</td>\n",
              "      <td>0</td>\n",
              "      <td>0</td>\n",
              "      <td>0</td>\n",
              "      <td>0</td>\n",
              "      <td>0</td>\n",
              "      <td>0</td>\n",
              "      <td>0</td>\n",
              "      <td>0</td>\n",
              "      <td>0</td>\n",
              "    </tr>\n",
              "  </tbody>\n",
              "</table>\n",
              "<p>5 rows × 41 columns</p>\n",
              "</div>\n",
              "    <div class=\"colab-df-buttons\">\n",
              "\n",
              "  <div class=\"colab-df-container\">\n",
              "    <button class=\"colab-df-convert\" onclick=\"convertToInteractive('df-daf8cff7-4916-4ee0-920e-866141a1b56a')\"\n",
              "            title=\"Convert this dataframe to an interactive table.\"\n",
              "            style=\"display:none;\">\n",
              "\n",
              "  <svg xmlns=\"http://www.w3.org/2000/svg\" height=\"24px\" viewBox=\"0 -960 960 960\">\n",
              "    <path d=\"M120-120v-720h720v720H120Zm60-500h600v-160H180v160Zm220 220h160v-160H400v160Zm0 220h160v-160H400v160ZM180-400h160v-160H180v160Zm440 0h160v-160H620v160ZM180-180h160v-160H180v160Zm440 0h160v-160H620v160Z\"/>\n",
              "  </svg>\n",
              "    </button>\n",
              "\n",
              "  <style>\n",
              "    .colab-df-container {\n",
              "      display:flex;\n",
              "      gap: 12px;\n",
              "    }\n",
              "\n",
              "    .colab-df-convert {\n",
              "      background-color: #E8F0FE;\n",
              "      border: none;\n",
              "      border-radius: 50%;\n",
              "      cursor: pointer;\n",
              "      display: none;\n",
              "      fill: #1967D2;\n",
              "      height: 32px;\n",
              "      padding: 0 0 0 0;\n",
              "      width: 32px;\n",
              "    }\n",
              "\n",
              "    .colab-df-convert:hover {\n",
              "      background-color: #E2EBFA;\n",
              "      box-shadow: 0px 1px 2px rgba(60, 64, 67, 0.3), 0px 1px 3px 1px rgba(60, 64, 67, 0.15);\n",
              "      fill: #174EA6;\n",
              "    }\n",
              "\n",
              "    .colab-df-buttons div {\n",
              "      margin-bottom: 4px;\n",
              "    }\n",
              "\n",
              "    [theme=dark] .colab-df-convert {\n",
              "      background-color: #3B4455;\n",
              "      fill: #D2E3FC;\n",
              "    }\n",
              "\n",
              "    [theme=dark] .colab-df-convert:hover {\n",
              "      background-color: #434B5C;\n",
              "      box-shadow: 0px 1px 3px 1px rgba(0, 0, 0, 0.15);\n",
              "      filter: drop-shadow(0px 1px 2px rgba(0, 0, 0, 0.3));\n",
              "      fill: #FFFFFF;\n",
              "    }\n",
              "  </style>\n",
              "\n",
              "    <script>\n",
              "      const buttonEl =\n",
              "        document.querySelector('#df-daf8cff7-4916-4ee0-920e-866141a1b56a button.colab-df-convert');\n",
              "      buttonEl.style.display =\n",
              "        google.colab.kernel.accessAllowed ? 'block' : 'none';\n",
              "\n",
              "      async function convertToInteractive(key) {\n",
              "        const element = document.querySelector('#df-daf8cff7-4916-4ee0-920e-866141a1b56a');\n",
              "        const dataTable =\n",
              "          await google.colab.kernel.invokeFunction('convertToInteractive',\n",
              "                                                    [key], {});\n",
              "        if (!dataTable) return;\n",
              "\n",
              "        const docLinkHtml = 'Like what you see? Visit the ' +\n",
              "          '<a target=\"_blank\" href=https://colab.research.google.com/notebooks/data_table.ipynb>data table notebook</a>'\n",
              "          + ' to learn more about interactive tables.';\n",
              "        element.innerHTML = '';\n",
              "        dataTable['output_type'] = 'display_data';\n",
              "        await google.colab.output.renderOutput(dataTable, element);\n",
              "        const docLink = document.createElement('div');\n",
              "        docLink.innerHTML = docLinkHtml;\n",
              "        element.appendChild(docLink);\n",
              "      }\n",
              "    </script>\n",
              "  </div>\n",
              "\n",
              "\n",
              "<div id=\"df-9e212b7f-308a-43df-9115-9c09db25e83c\">\n",
              "  <button class=\"colab-df-quickchart\" onclick=\"quickchart('df-9e212b7f-308a-43df-9115-9c09db25e83c')\"\n",
              "            title=\"Suggest charts\"\n",
              "            style=\"display:none;\">\n",
              "\n",
              "<svg xmlns=\"http://www.w3.org/2000/svg\" height=\"24px\"viewBox=\"0 0 24 24\"\n",
              "     width=\"24px\">\n",
              "    <g>\n",
              "        <path d=\"M19 3H5c-1.1 0-2 .9-2 2v14c0 1.1.9 2 2 2h14c1.1 0 2-.9 2-2V5c0-1.1-.9-2-2-2zM9 17H7v-7h2v7zm4 0h-2V7h2v10zm4 0h-2v-4h2v4z\"/>\n",
              "    </g>\n",
              "</svg>\n",
              "  </button>\n",
              "\n",
              "<style>\n",
              "  .colab-df-quickchart {\n",
              "      --bg-color: #E8F0FE;\n",
              "      --fill-color: #1967D2;\n",
              "      --hover-bg-color: #E2EBFA;\n",
              "      --hover-fill-color: #174EA6;\n",
              "      --disabled-fill-color: #AAA;\n",
              "      --disabled-bg-color: #DDD;\n",
              "  }\n",
              "\n",
              "  [theme=dark] .colab-df-quickchart {\n",
              "      --bg-color: #3B4455;\n",
              "      --fill-color: #D2E3FC;\n",
              "      --hover-bg-color: #434B5C;\n",
              "      --hover-fill-color: #FFFFFF;\n",
              "      --disabled-bg-color: #3B4455;\n",
              "      --disabled-fill-color: #666;\n",
              "  }\n",
              "\n",
              "  .colab-df-quickchart {\n",
              "    background-color: var(--bg-color);\n",
              "    border: none;\n",
              "    border-radius: 50%;\n",
              "    cursor: pointer;\n",
              "    display: none;\n",
              "    fill: var(--fill-color);\n",
              "    height: 32px;\n",
              "    padding: 0;\n",
              "    width: 32px;\n",
              "  }\n",
              "\n",
              "  .colab-df-quickchart:hover {\n",
              "    background-color: var(--hover-bg-color);\n",
              "    box-shadow: 0 1px 2px rgba(60, 64, 67, 0.3), 0 1px 3px 1px rgba(60, 64, 67, 0.15);\n",
              "    fill: var(--button-hover-fill-color);\n",
              "  }\n",
              "\n",
              "  .colab-df-quickchart-complete:disabled,\n",
              "  .colab-df-quickchart-complete:disabled:hover {\n",
              "    background-color: var(--disabled-bg-color);\n",
              "    fill: var(--disabled-fill-color);\n",
              "    box-shadow: none;\n",
              "  }\n",
              "\n",
              "  .colab-df-spinner {\n",
              "    border: 2px solid var(--fill-color);\n",
              "    border-color: transparent;\n",
              "    border-bottom-color: var(--fill-color);\n",
              "    animation:\n",
              "      spin 1s steps(1) infinite;\n",
              "  }\n",
              "\n",
              "  @keyframes spin {\n",
              "    0% {\n",
              "      border-color: transparent;\n",
              "      border-bottom-color: var(--fill-color);\n",
              "      border-left-color: var(--fill-color);\n",
              "    }\n",
              "    20% {\n",
              "      border-color: transparent;\n",
              "      border-left-color: var(--fill-color);\n",
              "      border-top-color: var(--fill-color);\n",
              "    }\n",
              "    30% {\n",
              "      border-color: transparent;\n",
              "      border-left-color: var(--fill-color);\n",
              "      border-top-color: var(--fill-color);\n",
              "      border-right-color: var(--fill-color);\n",
              "    }\n",
              "    40% {\n",
              "      border-color: transparent;\n",
              "      border-right-color: var(--fill-color);\n",
              "      border-top-color: var(--fill-color);\n",
              "    }\n",
              "    60% {\n",
              "      border-color: transparent;\n",
              "      border-right-color: var(--fill-color);\n",
              "    }\n",
              "    80% {\n",
              "      border-color: transparent;\n",
              "      border-right-color: var(--fill-color);\n",
              "      border-bottom-color: var(--fill-color);\n",
              "    }\n",
              "    90% {\n",
              "      border-color: transparent;\n",
              "      border-bottom-color: var(--fill-color);\n",
              "    }\n",
              "  }\n",
              "</style>\n",
              "\n",
              "  <script>\n",
              "    async function quickchart(key) {\n",
              "      const quickchartButtonEl =\n",
              "        document.querySelector('#' + key + ' button');\n",
              "      quickchartButtonEl.disabled = true;  // To prevent multiple clicks.\n",
              "      quickchartButtonEl.classList.add('colab-df-spinner');\n",
              "      try {\n",
              "        const charts = await google.colab.kernel.invokeFunction(\n",
              "            'suggestCharts', [key], {});\n",
              "      } catch (error) {\n",
              "        console.error('Error during call to suggestCharts:', error);\n",
              "      }\n",
              "      quickchartButtonEl.classList.remove('colab-df-spinner');\n",
              "      quickchartButtonEl.classList.add('colab-df-quickchart-complete');\n",
              "    }\n",
              "    (() => {\n",
              "      let quickchartButtonEl =\n",
              "        document.querySelector('#df-9e212b7f-308a-43df-9115-9c09db25e83c button');\n",
              "      quickchartButtonEl.style.display =\n",
              "        google.colab.kernel.accessAllowed ? 'block' : 'none';\n",
              "    })();\n",
              "  </script>\n",
              "</div>\n",
              "\n",
              "    </div>\n",
              "  </div>\n"
            ],
            "application/vnd.google.colaboratory.intrinsic+json": {
              "type": "dataframe",
              "variable_name": "df"
            }
          },
          "metadata": {},
          "execution_count": 46
        }
      ],
      "source": [
        "# normalisation des données\n",
        "\n",
        "scaler = StandardScaler()\n",
        "df[numerical] = scaler.fit_transform(df[numerical])\n",
        "df.head()"
      ]
    },
    {
      "cell_type": "code",
      "source": [
        "df.shape"
      ],
      "metadata": {
        "colab": {
          "base_uri": "https://localhost:8080/"
        },
        "id": "voQOlxJ9dvx1",
        "outputId": "77fbce81-285f-4e27-a75f-5a8279dcc298"
      },
      "execution_count": null,
      "outputs": [
        {
          "output_type": "execute_result",
          "data": {
            "text/plain": [
              "(3833, 41)"
            ]
          },
          "metadata": {},
          "execution_count": 47
        }
      ]
    },
    {
      "cell_type": "markdown",
      "metadata": {
        "id": "8m-EV_Klmd-m"
      },
      "source": [
        "## Régression linéaire"
      ]
    },
    {
      "cell_type": "code",
      "source": [
        "import statsmodels.api as sm\n",
        "\n",
        "# Définir la variable dépendante (label) y et les variables explicatives X\n",
        "y = df['prix']\n",
        "X = df.drop(['prix'], axis=1)\n",
        "\n",
        "# Ajouter une constante à la matrice de design X\n",
        "X = sm.add_constant(X)\n",
        "\n",
        "# Ajuster un modèle linéaire\n",
        "model = sm.OLS(y, X).fit()\n",
        "\n",
        "# Afficher les informations sur le modèle\n",
        "print(model.summary())\n"
      ],
      "metadata": {
        "colab": {
          "base_uri": "https://localhost:8080/"
        },
        "id": "Z08pyzNeZy-M",
        "outputId": "2c875d83-1a7a-433f-cdba-438be1dc6050"
      },
      "execution_count": null,
      "outputs": [
        {
          "output_type": "stream",
          "name": "stdout",
          "text": [
            "                            OLS Regression Results                            \n",
            "==============================================================================\n",
            "Dep. Variable:                   prix   R-squared:                       0.819\n",
            "Model:                            OLS   Adj. R-squared:                  0.817\n",
            "Method:                 Least Squares   F-statistic:                     430.0\n",
            "Date:                Thu, 11 Jul 2024   Prob (F-statistic):               0.00\n",
            "Time:                        09:45:53   Log-Likelihood:                -51461.\n",
            "No. Observations:                3833   AIC:                         1.030e+05\n",
            "Df Residuals:                    3792   BIC:                         1.033e+05\n",
            "Df Model:                          40                                         \n",
            "Covariance Type:            nonrobust                                         \n",
            "=======================================================================================================\n",
            "                                          coef    std err          t      P>|t|      [0.025      0.975]\n",
            "-------------------------------------------------------------------------------------------------------\n",
            "const                                2.736e+05   1.66e+05      1.645      0.100   -5.24e+04       6e+05\n",
            "nb_chambres                         -5195.5558   6192.894     -0.839      0.402   -1.73e+04    6946.170\n",
            "nb_photos                            2604.9976   2830.618      0.920      0.357   -2944.683    8154.678\n",
            "nb_pieces                            7619.1435   7306.572      1.043      0.297   -6706.047    2.19e+04\n",
            "position                            -2916.1397   2671.842     -1.091      0.275   -8154.526    2322.247\n",
            "si_balcon                             2.12e+04   6641.237      3.192      0.001    8175.154    3.42e+04\n",
            "surface                              2.826e+05   5400.685     52.332      0.000    2.72e+05    2.93e+05\n",
            "typedebien_Loft/Atelier/Surface     -1.041e+05    2.5e+04     -4.161      0.000   -1.53e+05   -5.51e+04\n",
            "idtypepublicationsourcecouplage_SL   3.366e+04   1.65e+05      0.204      0.839    -2.9e+05    3.58e+05\n",
            "idtypepublicationsourcecouplage_SL9  1.263e+05   1.84e+05      0.688      0.492   -2.34e+05    4.86e+05\n",
            "naturebien_2                         6.062e+04   6.77e+04      0.895      0.371   -7.21e+04    1.93e+05\n",
            "naturebien_3                         2.285e+05   1.65e+05      1.383      0.167   -9.55e+04    5.53e+05\n",
            "idtypecuisine_américaine équipée     3751.8032    1.3e+04      0.289      0.773   -2.17e+04    2.92e+04\n",
            "idtypecuisine_aucune                -3978.1271    1.2e+04     -0.330      0.741   -2.76e+04    1.96e+04\n",
            "idtypecuisine_categorie_0             819.7232   1.07e+04      0.076      0.939   -2.03e+04    2.19e+04\n",
            "idtypecuisine_catégorie_1           -1.758e+04   5.07e+04     -0.347      0.729   -1.17e+05    8.18e+04\n",
            "idtypecuisine_coin cuisine          -1.209e+04   1.68e+04     -0.722      0.470   -4.49e+04    2.08e+04\n",
            "idtypecuisine_coin cuisine équipé    1749.3673   2.28e+04      0.077      0.939   -4.29e+04    4.64e+04\n",
            "idtypecuisine_séparée               -2.727e+04      1e+04     -2.720      0.007   -4.69e+04   -7615.870\n",
            "idtypecuisine_séparée équipée       -8194.0602   1.24e+04     -0.661      0.509   -3.25e+04    1.61e+04\n",
            "idtypecuisine_équipée               -1.564e+04   1.18e+04     -1.320      0.187   -3.89e+04    7594.283\n",
            "ville_Paris 10ème                    4.184e+05   2.01e+04     20.858      0.000    3.79e+05    4.58e+05\n",
            "ville_Paris 11ème                    4.481e+05   1.95e+04     23.038      0.000     4.1e+05    4.86e+05\n",
            "ville_Paris 12ème                     3.98e+05   2.01e+04     19.773      0.000    3.59e+05    4.38e+05\n",
            "ville_Paris 13ème                    4.101e+05   1.82e+04     22.512      0.000    3.74e+05    4.46e+05\n",
            "ville_Paris 14ème                    4.215e+05   1.94e+04     21.730      0.000    3.84e+05     4.6e+05\n",
            "ville_Paris 15ème                    4.454e+05   1.82e+04     24.529      0.000     4.1e+05    4.81e+05\n",
            "ville_Paris 16ème                    5.254e+05   1.75e+04     30.032      0.000    4.91e+05     5.6e+05\n",
            "ville_Paris 17ème                     4.77e+05   1.82e+04     26.282      0.000    4.41e+05    5.13e+05\n",
            "ville_Paris 18ème                    4.072e+05    1.8e+04     22.644      0.000    3.72e+05    4.42e+05\n",
            "ville_Paris 19ème                    3.159e+05   1.91e+04     16.554      0.000    2.79e+05    3.53e+05\n",
            "ville_Paris 1er                      6.731e+05   2.96e+04     22.750      0.000    6.15e+05    7.31e+05\n",
            "ville_Paris 20ème                    2.917e+05   1.94e+04     15.055      0.000    2.54e+05     3.3e+05\n",
            "ville_Paris 2ème                     5.299e+05   2.58e+04     20.537      0.000    4.79e+05    5.81e+05\n",
            "ville_Paris 3ème                       5.5e+05   2.31e+04     23.818      0.000    5.05e+05    5.95e+05\n",
            "ville_Paris 4ème                     6.073e+05   2.23e+04     27.270      0.000    5.64e+05    6.51e+05\n",
            "ville_Paris 5ème                     5.656e+05   2.19e+04     25.868      0.000    5.23e+05    6.09e+05\n",
            "ville_Paris 6ème                     7.218e+05   2.05e+04     35.254      0.000    6.82e+05    7.62e+05\n",
            "ville_Paris 7ème                     6.775e+05    2.1e+04     32.247      0.000    6.36e+05    7.19e+05\n",
            "ville_Paris 8ème                     6.687e+05   2.15e+04     31.070      0.000    6.27e+05    7.11e+05\n",
            "ville_Paris 9ème                     5.158e+05   2.27e+04     22.736      0.000    4.71e+05     5.6e+05\n",
            "==============================================================================\n",
            "Omnibus:                      432.172   Durbin-Watson:                   1.467\n",
            "Prob(Omnibus):                  0.000   Jarque-Bera (JB):             3992.120\n",
            "Skew:                           0.088   Prob(JB):                         0.00\n",
            "Kurtosis:                       7.997   Cond. No.                         208.\n",
            "==============================================================================\n",
            "\n",
            "Notes:\n",
            "[1] Standard Errors assume that the covariance matrix of the errors is correctly specified.\n"
          ]
        }
      ]
    },
    {
      "cell_type": "code",
      "execution_count": null,
      "metadata": {
        "id": "_EEK0cORmd-n",
        "outputId": "9bc8f274-9b1b-42cd-d6cb-5000f8bf48fc",
        "colab": {
          "base_uri": "https://localhost:8080/"
        }
      },
      "outputs": [
        {
          "output_type": "execute_result",
          "data": {
            "text/plain": [
              "Index(['si_balcon', 'surface', 'typedebien_Loft/Atelier/Surface',\n",
              "       'idtypecuisine_séparée', 'ville_Paris 10ème', 'ville_Paris 11ème',\n",
              "       'ville_Paris 12ème', 'ville_Paris 13ème', 'ville_Paris 14ème',\n",
              "       'ville_Paris 15ème', 'ville_Paris 16ème', 'ville_Paris 17ème',\n",
              "       'ville_Paris 18ème', 'ville_Paris 19ème', 'ville_Paris 1er',\n",
              "       'ville_Paris 20ème', 'ville_Paris 2ème', 'ville_Paris 3ème',\n",
              "       'ville_Paris 4ème', 'ville_Paris 5ème', 'ville_Paris 6ème',\n",
              "       'ville_Paris 7ème', 'ville_Paris 8ème', 'ville_Paris 9ème'],\n",
              "      dtype='object')"
            ]
          },
          "metadata": {},
          "execution_count": 54
        }
      ],
      "source": [
        "# Sélectionner les variables ayant une p-valeue inférieures à 0.05\n",
        "\n",
        "selected_columns = X.columns[model.pvalues < 0.05]\n",
        "selected_columns\n",
        "\n"
      ]
    },
    {
      "cell_type": "code",
      "source": [
        "# Ajuster une régression linéaire avec les variables sélectionnées\n",
        "\n",
        "X = df[selected_columns]\n",
        "X = sm.add_constant(X)\n",
        "model = sm.OLS(y, X).fit()\n",
        "print(model.summary())"
      ],
      "metadata": {
        "colab": {
          "base_uri": "https://localhost:8080/"
        },
        "id": "7Z1dRQUxiHaF",
        "outputId": "ba04cde8-279b-4e6e-8b27-b248ba44e7c0"
      },
      "execution_count": null,
      "outputs": [
        {
          "output_type": "stream",
          "name": "stdout",
          "text": [
            "                            OLS Regression Results                            \n",
            "==============================================================================\n",
            "Dep. Variable:                   prix   R-squared:                       0.792\n",
            "Model:                            OLS   Adj. R-squared:                  0.791\n",
            "Method:                 Least Squares   F-statistic:                     603.7\n",
            "Date:                Thu, 11 Jul 2024   Prob (F-statistic):               0.00\n",
            "Time:                        06:48:34   Log-Likelihood:                -51732.\n",
            "No. Observations:                3833   AIC:                         1.035e+05\n",
            "Df Residuals:                    3808   BIC:                         1.037e+05\n",
            "Df Model:                          24                                         \n",
            "Covariance Type:            nonrobust                                         \n",
            "===================================================================================================\n",
            "                                      coef    std err          t      P>|t|      [0.025      0.975]\n",
            "---------------------------------------------------------------------------------------------------\n",
            "const                            3.088e+05   1.64e+04     18.788      0.000    2.77e+05    3.41e+05\n",
            "si_balcon                        1.813e+04   7053.679      2.571      0.010    4302.512     3.2e+04\n",
            "surface                          3.103e+05   2994.393    103.642      0.000    3.04e+05    3.16e+05\n",
            "typedebien_Loft/Atelier/Surface -1.129e+05   2.67e+04     -4.233      0.000   -1.65e+05   -6.06e+04\n",
            "idtypecuisine_séparée           -1.358e+04   6380.288     -2.129      0.033   -2.61e+04   -1073.070\n",
            "ville_Paris 10ème                4.317e+05   2.13e+04     20.286      0.000     3.9e+05    4.73e+05\n",
            "ville_Paris 11ème                4.579e+05   2.06e+04     22.223      0.000    4.17e+05    4.98e+05\n",
            "ville_Paris 12ème                4.016e+05   2.13e+04     18.839      0.000     3.6e+05    4.43e+05\n",
            "ville_Paris 13ème                4.087e+05   1.93e+04     21.192      0.000    3.71e+05    4.46e+05\n",
            "ville_Paris 14ème                4.372e+05   2.06e+04     21.261      0.000    3.97e+05    4.78e+05\n",
            "ville_Paris 15ème                4.644e+05   1.92e+04     24.194      0.000    4.27e+05    5.02e+05\n",
            "ville_Paris 16ème                5.684e+05   1.83e+04     31.001      0.000    5.32e+05    6.04e+05\n",
            "ville_Paris 17ème                4.999e+05   1.92e+04     26.029      0.000    4.62e+05    5.38e+05\n",
            "ville_Paris 18ème                4.201e+05   1.91e+04     22.050      0.000    3.83e+05    4.57e+05\n",
            "ville_Paris 19ème                3.167e+05   2.02e+04     15.654      0.000    2.77e+05    3.56e+05\n",
            "ville_Paris 1er                  7.282e+05   3.12e+04     23.321      0.000    6.67e+05    7.89e+05\n",
            "ville_Paris 20ème                2.865e+05   2.06e+04     13.922      0.000    2.46e+05    3.27e+05\n",
            "ville_Paris 2ème                 5.678e+05   2.74e+04     20.758      0.000    5.14e+05    6.21e+05\n",
            "ville_Paris 3ème                 5.835e+05   2.44e+04     23.949      0.000    5.36e+05    6.31e+05\n",
            "ville_Paris 4ème                 6.453e+05   2.35e+04     27.511      0.000    5.99e+05    6.91e+05\n",
            "ville_Paris 5ème                 5.885e+05   2.32e+04     25.419      0.000    5.43e+05    6.34e+05\n",
            "ville_Paris 6ème                 7.981e+05   2.14e+04     37.295      0.000    7.56e+05     8.4e+05\n",
            "ville_Paris 7ème                 7.531e+05    2.2e+04     34.256      0.000     7.1e+05    7.96e+05\n",
            "ville_Paris 8ème                 7.404e+05   2.25e+04     32.860      0.000    6.96e+05    7.85e+05\n",
            "ville_Paris 9ème                 5.365e+05   2.41e+04     22.305      0.000    4.89e+05    5.84e+05\n",
            "==============================================================================\n",
            "Omnibus:                      415.919   Durbin-Watson:                   1.366\n",
            "Prob(Omnibus):                  0.000   Jarque-Bera (JB):             3650.127\n",
            "Skew:                           0.072   Prob(JB):                         0.00\n",
            "Kurtosis:                       7.779   Cond. No.                         29.6\n",
            "==============================================================================\n",
            "\n",
            "Notes:\n",
            "[1] Standard Errors assume that the covariance matrix of the errors is correctly specified.\n"
          ]
        }
      ]
    },
    {
      "cell_type": "markdown",
      "metadata": {
        "id": "gDhA4i1vmd-o"
      },
      "source": [
        "# Prédire les prix\n",
        "\n",
        "On se propose maintenant de prédire les prix des biens immobliers."
      ]
    },
    {
      "cell_type": "code",
      "execution_count": null,
      "metadata": {
        "id": "fzz0VTzSmd-o"
      },
      "outputs": [],
      "source": [
        "from sklearn.model_selection import train_test_split"
      ]
    },
    {
      "cell_type": "code",
      "source": [
        "# Séparer les données en données d'entraînement et de test\n",
        "X_train, X_test, y_train, y_test = train_test_split(X, y, test_size=0.2, random_state=42)\n",
        "\n",
        "# Entraîner le modèle de régression linéaire sur les données d'entraînement\n",
        "model = sm.OLS(y_train, X_train).fit()\n",
        "\n",
        "# Prédire les prix des biens immobiliers sur les données de test\n",
        "y_pred = model.predict(X_test)\n",
        "\n",
        "# Évaluer les performances du modèle\n",
        "from sklearn.metrics import mean_squared_error\n",
        "rmse = mean_squared_error(y_test, y_pred, squared=False)\n",
        "print(f\"Root Mean squared error: {rmse}\")\n"
      ],
      "metadata": {
        "colab": {
          "base_uri": "https://localhost:8080/"
        },
        "id": "QtpKJoQzi40X",
        "outputId": "1b0711a0-ff2d-4856-b060-f0311a8cf064"
      },
      "execution_count": null,
      "outputs": [
        {
          "output_type": "stream",
          "name": "stdout",
          "text": [
            "Root Mean squared error: 180888.74247612117\n"
          ]
        }
      ]
    },
    {
      "cell_type": "code",
      "execution_count": null,
      "metadata": {
        "id": "u5LOg6V4md-q",
        "outputId": "b4fed669-1acf-4ee3-943d-c5d8e2078a30",
        "colab": {
          "base_uri": "https://localhost:8080/",
          "height": 427
        }
      },
      "outputs": [
        {
          "output_type": "display_data",
          "data": {
            "text/plain": [
              "<Figure size 1500x500 with 1 Axes>"
            ],
            "image/png": "[encoded data removed]"
          },
          "metadata": {}
        }
      ],
      "source": [
        "import numpy as np\n",
        "\n",
        "ecarts = np.abs(y_pred - y_test)\n",
        "\n",
        "fig, ax = plt.subplots(figsize=(15, 5))\n",
        "sns.histplot(ecarts, ax=ax, color='green', kde=False)\n",
        "ax.set_title('Distribution des écarts')\n",
        "plt.show()\n"
      ]
    }
  ],
  "metadata": {
    "kernelspec": {
      "display_name": "Python 3.8.5 ('base')",
      "language": "python",
      "name": "python3"
    },
    "language_info": {
      "codemirror_mode": {
        "name": "ipython",
        "version": 3
      },
      "file_extension": ".py",
      "mimetype": "text/x-python",
      "name": "python",
      "nbconvert_exporter": "python",
      "pygments_lexer": "ipython3",
      "version": "3.8.5"
    },
    "orig_nbformat": 4,
    "vscode": {
      "interpreter": {
        "hash": "8fc18eb72a3eaeec3db897adacb3186856b03b84b4a3ec23e8fdb6cc72218a5c"
      }
    },
    "colab": {
      "provenance": [],
      "include_colab_link": true
    }
  },
  "nbformat": 4,
  "nbformat_minor": 0
}